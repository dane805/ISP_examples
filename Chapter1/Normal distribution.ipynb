{
 "cells": [
  {
   "cell_type": "code",
   "execution_count": 1,
   "metadata": {},
   "outputs": [],
   "source": [
    "from scipy.stats import norm"
   ]
  },
  {
   "cell_type": "markdown",
   "metadata": {},
   "source": [
    "### Question"
   ]
  },
  {
   "cell_type": "markdown",
   "metadata": {},
   "source": [
    "어떤 작은 식당의 1일 판매액(주말을 제외한)의 확률 분포는 정규 분포에 근사한다.  \n",
    "평균은 50만원이고, 표준편차는 20만원이다.  \n",
    "a) 어느 날 72만원을 판매할 확률을 구하라.  \n",
    "b) 이 식당은 문을 닫기 이전에 적어도 100만원 이상을 벌어야 한다. 그러지 못할 확률을 구하라."
   ]
  },
  {
   "cell_type": "markdown",
   "metadata": {},
   "source": [
    "### Solution"
   ]
  },
  {
   "cell_type": "code",
   "execution_count": 2,
   "metadata": {},
   "outputs": [
    {
     "name": "stdout",
     "output_type": "stream",
     "text": [
      "a) 정규 분포에서 측정한 점에 대한 확률값은 항상 0이다\n",
      "b) 이 식당이 문을 닫기 이전에 300만원 이상을 벌지 못할 확률은 0.9938\n"
     ]
    }
   ],
   "source": [
    "# a)\n",
    "print(\"a) 정규 분포에서 측정한 점에 대한 확률값은 항상 0이다\")\n",
    "\n",
    "# b)\n",
    "z_score = (100-50)/20\n",
    "prob = norm.cdf(z_score)\n",
    "print(f\"b) 이 식당이 문을 닫기 이전에 300만원 이상을 벌지 못할 확률은 {prob:.4f}\")"
   ]
  }
 ],
 "metadata": {
  "kernelspec": {
   "display_name": "Python 3",
   "language": "python",
   "name": "python3"
  },
  "language_info": {
   "codemirror_mode": {
    "name": "ipython",
    "version": 3
   },
   "file_extension": ".py",
   "mimetype": "text/x-python",
   "name": "python",
   "nbconvert_exporter": "python",
   "pygments_lexer": "ipython3",
   "version": "3.7.4"
  }
 },
 "nbformat": 4,
 "nbformat_minor": 2
}
