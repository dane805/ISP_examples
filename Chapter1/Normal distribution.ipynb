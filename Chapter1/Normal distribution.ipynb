{
 "cells": [
  {
   "cell_type": "code",
   "execution_count": 1,
   "metadata": {},
   "outputs": [],
   "source": [
    "import numpy as np\n",
    "from scipy.stats import norm"
   ]
  },
  {
   "cell_type": "markdown",
   "metadata": {},
   "source": [
    "### Question"
   ]
  },
  {
   "cell_type": "markdown",
   "metadata": {},
   "source": [
    "어떤 작은 식당의 1일 판매액(주말을 제외한)의 확률 분포는 정규 분포에 근사한다.  \n",
    "평균은 50만원이고, 표준편차는 20만원이다.  \n",
    "a) 어느 날 72만원을 판매할 확률을 구하라.  \n",
    "b) 이 식당은 문을 닫기 이전에 적어도 100만원 이상을 벌어야 한다. 그러지 못할 확률을 구하라."
   ]
  },
  {
   "cell_type": "markdown",
   "metadata": {},
   "source": [
    "### Solution"
   ]
  },
  {
   "cell_type": "code",
   "execution_count": 2,
   "metadata": {},
   "outputs": [
    {
     "name": "stdout",
     "output_type": "stream",
     "text": [
      "a) 정규 분포에서 측정한 점에 대한 확률값은 항상 0이다\n",
      "b) 이 식당이 문을 닫기 이전에 300만원 이상을 벌지 못할 확률은 0.9938\n"
     ]
    }
   ],
   "source": [
    "# a)\n",
    "print(\"a) 정규 분포에서 측정한 점에 대한 확률값은 항상 0이다\")\n",
    "\n",
    "# b)\n",
    "z_score = (100-50)/20\n",
    "prob = norm.cdf(z_score)\n",
    "print(f\"b) 이 식당이 문을 닫기 이전에 300만원 이상을 벌지 못할 확률은 {prob:.4f}\")"
   ]
  },
  {
   "cell_type": "markdown",
   "metadata": {},
   "source": [
    "* * *"
   ]
  },
  {
   "cell_type": "markdown",
   "metadata": {},
   "source": [
    "### Question"
   ]
  },
  {
   "cell_type": "markdown",
   "metadata": {},
   "source": [
    "X는 미지의 평균 μ와 표준편차 σ=2를 가진다. X가 7.5를 초과할 확률이 0.8023이라고할 때 μ를 구하시오"
   ]
  },
  {
   "cell_type": "code",
   "execution_count": 3,
   "metadata": {},
   "outputs": [],
   "source": [
    "loss_dic = {x:abs((1 - norm.cdf(x)) - 0.8023) for x in np.arange(-4, 4, 0.01)}"
   ]
  },
  {
   "cell_type": "code",
   "execution_count": 4,
   "metadata": {},
   "outputs": [],
   "source": [
    "min_x = round(min(loss_dic, key=lambda k: loss_dic[k]), 3)"
   ]
  },
  {
   "cell_type": "code",
   "execution_count": 5,
   "metadata": {},
   "outputs": [],
   "source": [
    "assert (1-norm.cdf(min_x)) - 0.8023 < 0.01"
   ]
  },
  {
   "cell_type": "code",
   "execution_count": 6,
   "metadata": {},
   "outputs": [
    {
     "name": "stdout",
     "output_type": "stream",
     "text": [
      "μ는 대략 9.20이다\n"
     ]
    }
   ],
   "source": [
    "mu = 7.5 - min_x*2\n",
    "print(f\"μ는 대략 {mu:.2f}이다\")"
   ]
  }
 ],
 "metadata": {
  "kernelspec": {
   "display_name": "Python 3",
   "language": "python",
   "name": "python3"
  },
  "language_info": {
   "codemirror_mode": {
    "name": "ipython",
    "version": 3
   },
   "file_extension": ".py",
   "mimetype": "text/x-python",
   "name": "python",
   "nbconvert_exporter": "python",
   "pygments_lexer": "ipython3",
   "version": "3.7.4"
  }
 },
 "nbformat": 4,
 "nbformat_minor": 2
}
