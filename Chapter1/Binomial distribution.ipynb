{
 "cells": [
  {
   "cell_type": "code",
   "execution_count": 1,
   "metadata": {},
   "outputs": [],
   "source": [
    "import numpy as np\n",
    "from scipy.stats import binom, norm, multinomial\n",
    "from scipy.special import comb "
   ]
  },
  {
   "cell_type": "markdown",
   "metadata": {},
   "source": [
    "### Question"
   ]
  },
  {
   "cell_type": "markdown",
   "metadata": {},
   "source": [
    "최근에 팔린 자동차 중 10%는 검은색이었다. 랜덤하게 선택된 25대의 차에서 다음의 확률을 구하시오  \n",
    "a) 적어도 4대가 검은 색  \n",
    "b) 최대 6대가 검은 색  \n",
    "c) 4대 이상이 검은 색  \n",
    "d) 정확히 4대가 검은 색  \n",
    "e) 3대~4대의 자동차가 검은 색  "
   ]
  },
  {
   "cell_type": "markdown",
   "metadata": {},
   "source": [
    "### Solution"
   ]
  },
  {
   "cell_type": "code",
   "execution_count": 2,
   "metadata": {},
   "outputs": [],
   "source": [
    "# 변수 초기화\n",
    "n = 25\n",
    "p = 0.1"
   ]
  },
  {
   "cell_type": "code",
   "execution_count": 3,
   "metadata": {},
   "outputs": [
    {
     "name": "stdout",
     "output_type": "stream",
     "text": [
      "a) 적어도 4대가 검은 색: 0.2364\n",
      "b) 최대 6대가 검은 색  : 0.9905\n",
      "c) 4대 이상이 검은 색  : 0.2364\n",
      "d) 정확히 4대가 검은색  : 0.1384\n",
      "d) 3대~4대의 자동차가 검은 색 : 0.3649\n"
     ]
    }
   ],
   "source": [
    "## 직접 계산\n",
    "\n",
    "# a)\n",
    "probs = [(comb(n, i) * (p**i) * ((1-p)**(n-i))) for i in range(4)]\n",
    "prob = 1 - sum(probs)\n",
    "print(f\"a) 적어도 4대가 검은 색: {prob:.4f}\")\n",
    "\n",
    "# b)\n",
    "probs = [(comb(n, i) * (p**i) * ((1-p)**(n-i))) for i in range(7)]\n",
    "prob = sum(probs)\n",
    "print(f\"b) 최대 6대가 검은 색  : {prob:.4f}\")\n",
    "\n",
    "# c)\n",
    "probs = [(comb(n, i) * (p**i) * ((1-p)**(n-i))) for i in range(4)]\n",
    "prob = 1 - sum(probs)\n",
    "print(f\"c) 4대 이상이 검은 색  : {prob:.4f}\")\n",
    "\n",
    "# d)\n",
    "prob = comb(n, 4) * (p**4) * ((1-p)**(n-4))\n",
    "print(f\"d) 정확히 4대가 검은색  : {prob:.4f}\")\n",
    "\n",
    "# e)\n",
    "probs = [(comb(n, i) * (p**i) * ((1-p)**(n-i))) for i in (3, 4)]\n",
    "prob = sum(probs)\n",
    "print(f\"d) 3대~4대의 자동차가 검은 색 : {prob:.4f}\")"
   ]
  },
  {
   "cell_type": "code",
   "execution_count": 4,
   "metadata": {},
   "outputs": [
    {
     "name": "stdout",
     "output_type": "stream",
     "text": [
      "a) 적어도 4대가 검은 색: 0.2364\n",
      "b) 최대 6대가 검은 색  : 0.9905\n",
      "c) 4대 이상이 검은 색  : 0.2364\n",
      "d) 정확히 4대가 검은색  : 0.1384\n",
      "d) 3대~4대의 자동차가 검은 색 : 0.3649\n"
     ]
    }
   ],
   "source": [
    "## scipy를 이용해 pmf 함수 이용\n",
    "\n",
    "# a)\n",
    "prob = 1 - binom.cdf(3, 25, 0.1)\n",
    "print(f\"a) 적어도 4대가 검은 색: {prob:.4f}\")\n",
    "\n",
    "# b)\n",
    "prob = binom.cdf(6, 25, 0.1)\n",
    "print(f\"b) 최대 6대가 검은 색  : {prob:.4f}\")\n",
    "\n",
    "# c)\n",
    "prob = 1 - binom.cdf(3, 25, 0.1)\n",
    "print(f\"c) 4대 이상이 검은 색  : {prob:.4f}\")\n",
    "\n",
    "# d)\n",
    "prob = binom.pmf(4, 25, 0.1)\n",
    "print(f\"d) 정확히 4대가 검은색  : {prob:.4f}\")\n",
    "\n",
    "# e)\n",
    "prob = binom.pmf(3, 25, 0.1) + binom.pmf(4, 25, 0.1)\n",
    "print(f\"d) 3대~4대의 자동차가 검은 색 : {prob:.4f}\")"
   ]
  },
  {
   "cell_type": "markdown",
   "metadata": {},
   "source": [
    "* * *"
   ]
  },
  {
   "cell_type": "markdown",
   "metadata": {},
   "source": [
    "### Question"
   ]
  },
  {
   "cell_type": "markdown",
   "metadata": {},
   "source": [
    "5개의 질문으로 구성된 4지선다형 시험에서 오직 하나만이 정답일 때, 다음을 구하라  \n",
    "a) 어떤 학생이 모든 문제의 답을 맞출 확률은?  \n",
    "b) 어떤 학생이 모든 문제를 틀릴 확률은?"
   ]
  },
  {
   "cell_type": "markdown",
   "metadata": {},
   "source": [
    "### Solution"
   ]
  },
  {
   "cell_type": "code",
   "execution_count": 5,
   "metadata": {},
   "outputs": [
    {
     "name": "stdout",
     "output_type": "stream",
     "text": [
      "a) 어떤 학생이 모든 문제의 답을 맞출 확률은 0.0010\n",
      "b) 어떤 학생이 모든 문제를 틀릴 확률은 0.2373\n"
     ]
    }
   ],
   "source": [
    "## 직접 계산\n",
    "\n",
    "# a)\n",
    "prob = 0.25**5\n",
    "print(f\"a) 어떤 학생이 모든 문제의 답을 맞출 확률은 {prob:.4f}\")\n",
    "# b)\n",
    "prob = (1 - 0.25)**5\n",
    "print(f\"b) 어떤 학생이 모든 문제를 틀릴 확률은 {prob:.4f}\")"
   ]
  },
  {
   "cell_type": "code",
   "execution_count": 6,
   "metadata": {},
   "outputs": [
    {
     "name": "stdout",
     "output_type": "stream",
     "text": [
      "a) 어떤 학생이 모든 문제의 답을 맞출 확률은 0.0010\n",
      "b) 어떤 학생이 모든 문제를 틀릴 확률은 0.2373\n"
     ]
    }
   ],
   "source": [
    "## scipy를 이용해 pmf 함수 이용\n",
    "\n",
    "# a)\n",
    "prob = binom.pmf(5, 5, 0.25)\n",
    "print(f\"a) 어떤 학생이 모든 문제의 답을 맞출 확률은 {prob:.4f}\")\n",
    "# b)\n",
    "prob = binom.pmf(0, 5, 0.25)\n",
    "print(f\"b) 어떤 학생이 모든 문제를 틀릴 확률은 {prob:.4f}\")"
   ]
  },
  {
   "cell_type": "markdown",
   "metadata": {},
   "source": [
    "* * *"
   ]
  },
  {
   "cell_type": "markdown",
   "metadata": {},
   "source": [
    "### Question"
   ]
  },
  {
   "cell_type": "markdown",
   "metadata": {},
   "source": [
    "자녀가 3명 있는 가정의 경우 다음 확률을 구하라  \n",
    "a) 적어도 한 명이 딸일 확률은?  \n",
    "b) 적어도 두 명이 딸일 확률은?\n",
    "\n",
    "*각 자녀가 딸일 확률은 50%라고 가정한다"
   ]
  },
  {
   "cell_type": "markdown",
   "metadata": {},
   "source": [
    "### Solution"
   ]
  },
  {
   "cell_type": "code",
   "execution_count": 7,
   "metadata": {},
   "outputs": [
    {
     "name": "stdout",
     "output_type": "stream",
     "text": [
      "a) 적어도 한 명이 딸일 확률은 0.8750\n",
      "b) 적어도 두 명이 딸일 확률은 0.5000\n"
     ]
    }
   ],
   "source": [
    "## 직접 계산\n",
    "\n",
    "# a)\n",
    "prob = 1 - (0.5**3)\n",
    "print(f\"a) 적어도 한 명이 딸일 확률은 {prob:.4f}\")\n",
    "\n",
    "# b)\n",
    "daughter_2 = (0.5**3) * comb(3, 2)\n",
    "daughter_3 = (0.5**3) * comb(3, 3)\n",
    "prob = daughter_2 + daughter_3\n",
    "print(f\"b) 적어도 두 명이 딸일 확률은 {prob:.4f}\")"
   ]
  },
  {
   "cell_type": "code",
   "execution_count": 8,
   "metadata": {},
   "outputs": [
    {
     "name": "stdout",
     "output_type": "stream",
     "text": [
      "b) 적어도 두 명이 딸일 확률은 0.5000\n"
     ]
    }
   ],
   "source": [
    "## scipy의 pmf 함수 이용\n",
    "\n",
    "# b)\n",
    "prob = 1 - binom.cdf(1, 3, 0.5)\n",
    "print(f\"b) 적어도 두 명이 딸일 확률은 {prob:.4f}\")"
   ]
  },
  {
   "cell_type": "code",
   "execution_count": 9,
   "metadata": {},
   "outputs": [
    {
     "name": "stdout",
     "output_type": "stream",
     "text": [
      "적어도 두 명이 딸일 확률은? 0.5004\n"
     ]
    }
   ],
   "source": [
    "## 시뮬레이션을 통해 계산\n",
    "two_more = 0\n",
    "n = 100000\n",
    "for _ in range(n):\n",
    "    daughter_count = np.random.binomial(3, 0.5)\n",
    "    if daughter_count >= 2:\n",
    "        two_more += 1\n",
    "p = two_more / n\n",
    "print(f\"적어도 두 명이 딸일 확률은? {p:.4f}\")"
   ]
  },
  {
   "cell_type": "markdown",
   "metadata": {},
   "source": [
    "* * *"
   ]
  },
  {
   "cell_type": "markdown",
   "metadata": {},
   "source": [
    "### Question"
   ]
  },
  {
   "cell_type": "markdown",
   "metadata": {},
   "source": [
    "어떤 학원에서 수강하는 과목이 국어, 영어, 수학 세 과목이 있는데, 학생들은 국어, 영어, 수학 중 한 가지를 독립적으로 선택하며 이때 각 과목을 선택할 확률은 다음과 같다.  \n",
    "$P(국어)=0.3$, $P(영어)=0.2$, $P(수학)=0.5$  \n",
    "a) 앞으로 올 100명의 학생 중 국어를 선택할 사람의 수에 대한 평균과 분산을 각각 구하라.  \n",
    "b) 앞으로 올 100명의 학생 중 수학이 아닌 과목을 선택할 사람 수에 대한 평균과 분산을 각각 구하라"
   ]
  },
  {
   "cell_type": "markdown",
   "metadata": {},
   "source": [
    "### Solution"
   ]
  },
  {
   "cell_type": "code",
   "execution_count": 10,
   "metadata": {},
   "outputs": [
    {
     "name": "stdout",
     "output_type": "stream",
     "text": [
      "a)100명의 학생 중 국어를 선택할 사람 수에 대한 평균: 30.0, 분산: 21.0\n",
      "b)100명의 학생 중 수학이 아닌 과목을 선택할 사람 수에 대한 평균: 50.0, 분산: 25.0\n"
     ]
    }
   ],
   "source": [
    "## scipy를 이용\n",
    "\n",
    "mean_kor = binom.mean(100, 0.3)\n",
    "var_kor = binom.var(100, 0.3)\n",
    "print(f\"a)100명의 학생 중 국어를 선택할 사람 수에 대한 평균: {mean_kor}, 분산: {var_kor}\")\n",
    "\n",
    "mean_not_math = binom.mean(100, (1-0.5))\n",
    "var_not_math = binom.var(100, (1-0.5))\n",
    "print(f\"b)100명의 학생 중 수학이 아닌 과목을 선택할 사람 수에 대한 평균: {mean_not_math}, 분산: {var_not_math}\")"
   ]
  },
  {
   "cell_type": "code",
   "execution_count": 11,
   "metadata": {},
   "outputs": [
    {
     "name": "stdout",
     "output_type": "stream",
     "text": [
      "a)100명의 학생 중 국어를 선택할 사람 수에 대한 평균: 30.0, 분산: 21.0\n",
      "b)100명의 학생 중 수학이 아닌 과목을 선택할 사람 수에 대한 평균: 50.0, 분산: 25.0\n"
     ]
    }
   ],
   "source": [
    "## binom의 평균과 분산 이용: np, np(1-p)\n",
    "\n",
    "mean_kor = 100*0.3\n",
    "var_kor = 100*0.3*(1-0.3)\n",
    "print(f\"a)100명의 학생 중 국어를 선택할 사람 수에 대한 평균: {mean_kor}, 분산: {var_kor}\")\n",
    "\n",
    "mean_not_math = 100*0.5\n",
    "var_not_math = 100*0.5*(1-0.5)\n",
    "print(f\"b)100명의 학생 중 수학이 아닌 과목을 선택할 사람 수에 대한 평균: {mean_not_math}, 분산: {var_not_math}\")"
   ]
  },
  {
   "cell_type": "code",
   "execution_count": 12,
   "metadata": {},
   "outputs": [
    {
     "name": "stdout",
     "output_type": "stream",
     "text": [
      "a)100명의 학생 중 국어를 선택할 사람 수에 대한 평균: 29.96, 분산: 20.96\n",
      "b)100명의 학생 중 수학이 아닌 과목을 선택할 사람 수에 대한 평균: 49.99, 분산: 25.26\n"
     ]
    }
   ],
   "source": [
    "## 시뮬레이션을 통해 계산\n",
    "\n",
    "kor = []\n",
    "math = []\n",
    "for _ in range(10000):\n",
    "    samples = multinomial.rvs(1, [0.3, 0.2, 0.5], 100)\n",
    "    kor.append(sum([(sample[0] == 1).all() for sample in samples]))\n",
    "    math.append(sum([(sample[2] == 0).all() for sample in samples]))\n",
    "\n",
    "mean_kor = np.mean(kor)\n",
    "var_kor = np.var(kor)\n",
    "print(f\"a)100명의 학생 중 국어를 선택할 사람 수에 대한 평균: {mean_kor:.2f}, 분산: {var_kor:.2f}\")\n",
    "\n",
    "mean_not_math = np.mean(math)\n",
    "var_not_math = np.var(math)\n",
    "print(f\"b)100명의 학생 중 수학이 아닌 과목을 선택할 사람 수에 대한 평균: {mean_not_math:.2f}, 분산: {var_not_math:.2f}\")"
   ]
  }
 ],
 "metadata": {
  "kernelspec": {
   "display_name": "Python 3",
   "language": "python",
   "name": "python3"
  },
  "language_info": {
   "codemirror_mode": {
    "name": "ipython",
    "version": 3
   },
   "file_extension": ".py",
   "mimetype": "text/x-python",
   "name": "python",
   "nbconvert_exporter": "python",
   "pygments_lexer": "ipython3",
   "version": "3.7.4"
  }
 },
 "nbformat": 4,
 "nbformat_minor": 2
}
