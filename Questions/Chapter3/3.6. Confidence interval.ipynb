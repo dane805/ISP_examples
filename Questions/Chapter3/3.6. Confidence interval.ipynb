{
 "cells": [
  {
   "cell_type": "markdown",
   "metadata": {},
   "source": [
    "### Question 1"
   ]
  },
  {
   "cell_type": "markdown",
   "metadata": {},
   "source": [
    "정규모집단에서 n=9인 표본을 추출하였더니, 표본평균이 36이었다고 한다. 이 정규모집단의 모분산이 9라고 할 때 다음 물음에 답하라.  \n",
    "a) 모평균 $\\mu$에 대한 95% 신뢰구간을 구하라  \n",
    "b) 모평균 $\\mu$에 대한 99% 신뢰구간을 구하라"
   ]
  }
 ],
 "metadata": {
  "kernelspec": {
   "display_name": "Python 3",
   "language": "python",
   "name": "python3"
  },
  "language_info": {
   "codemirror_mode": {
    "name": "ipython",
    "version": 3
   },
   "file_extension": ".py",
   "mimetype": "text/x-python",
   "name": "python",
   "nbconvert_exporter": "python",
   "pygments_lexer": "ipython3",
   "version": "3.7.4"
  }
 },
 "nbformat": 4,
 "nbformat_minor": 2
}
