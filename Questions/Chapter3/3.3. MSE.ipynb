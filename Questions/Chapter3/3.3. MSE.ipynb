{
 "cells": [
  {
   "cell_type": "markdown",
   "metadata": {},
   "source": [
    "### Question 1"
   ]
  },
  {
   "cell_type": "markdown",
   "metadata": {},
   "source": [
    "n번의 시행에서 X번의 성공이 나타날 때 표본 비율은 $\\hat p = \\frac X n$가 된다. 모비율 p에 대 한 추정량으로 다음과 같은 p*라는 추정량을 사용한다고 했을 때 다음 질문에 답하시오.  \n",
    "\n",
    "$p* = \\frac {X+1} {n+1} = \\frac n {n+1} \\hat p + \\frac 1 {n+1}$\n",
    "\n",
    "a) p\\*의 평균과 분산을 구하고 $\\hat p$와 비교하라.  \n",
    "b) p\\*의 MSE를 구하고 $\\hat p$와 비교하라."
   ]
  }
 ],
 "metadata": {
  "kernelspec": {
   "display_name": "Python 3",
   "language": "python",
   "name": "python3"
  },
  "language_info": {
   "codemirror_mode": {
    "name": "ipython",
    "version": 3
   },
   "file_extension": ".py",
   "mimetype": "text/x-python",
   "name": "python",
   "nbconvert_exporter": "python",
   "pygments_lexer": "ipython3",
   "version": "3.7.4"
  }
 },
 "nbformat": 4,
 "nbformat_minor": 2
}
