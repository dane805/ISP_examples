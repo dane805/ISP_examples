{
 "cells": [
  {
   "cell_type": "markdown",
   "metadata": {},
   "source": [
    "### Question 1."
   ]
  },
  {
   "cell_type": "markdown",
   "metadata": {},
   "source": [
    "공정한 정육면체 주사위를 던졌을 때, 각 눈의 수가 나올 확률을 반환하는 함수를 만드시오. 인자는 윗면의 눈의 수 x이다."
   ]
  },
  {
   "cell_type": "markdown",
   "metadata": {},
   "source": [
    "### Question 2."
   ]
  },
  {
   "cell_type": "markdown",
   "metadata": {},
   "source": [
    "정N각기둥의 각 면에 1부터 N까지의 숫자가 적혀있다. 이 각기둥은 공정하기 때문에, 각기둥을 굴렸을 때 각 눈의 수가 나올 확률은 동일하다.  \n",
    "각 눈의 수가 나올 확률을 반환하는 함수를 만드시오. 인자는 각의 수 N과 윗면 눈의 수 x이다."
   ]
  }
 ],
 "metadata": {
  "kernelspec": {
   "display_name": "Python 3",
   "language": "python",
   "name": "python3"
  },
  "language_info": {
   "codemirror_mode": {
    "name": "ipython",
    "version": 3
   },
   "file_extension": ".py",
   "mimetype": "text/x-python",
   "name": "python",
   "nbconvert_exporter": "python",
   "pygments_lexer": "ipython3",
   "version": "3.7.4"
  }
 },
 "nbformat": 4,
 "nbformat_minor": 2
}
