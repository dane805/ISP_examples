{
 "cells": [
  {
   "cell_type": "code",
   "execution_count": null,
   "metadata": {},
   "outputs": [],
   "source": [
    "import ch1_tests"
   ]
  },
  {
   "cell_type": "markdown",
   "metadata": {},
   "source": [
    "### Question 1."
   ]
  },
  {
   "cell_type": "markdown",
   "metadata": {},
   "source": [
    "공정한 정육면체 주사위를 던졌을 때, 각 눈의 수가 나올 확률을 반환하는 함수를 만드시오. 인자는 윗면의 눈의 수 x이다."
   ]
  },
  {
   "cell_type": "code",
   "execution_count": null,
   "metadata": {},
   "outputs": [],
   "source": [
    "def fair_dice(x):\n",
    "    if x in #\n",
    "        return #\n",
    "    else:\n",
    "        return 0"
   ]
  },
  {
   "cell_type": "code",
   "execution_count": null,
   "metadata": {},
   "outputs": [],
   "source": [
    "ch1_tests.Question1(fair_dice).run()"
   ]
  },
  {
   "cell_type": "markdown",
   "metadata": {},
   "source": [
    "* * *"
   ]
  },
  {
   "cell_type": "markdown",
   "metadata": {},
   "source": [
    "### Question 2."
   ]
  },
  {
   "cell_type": "markdown",
   "metadata": {},
   "source": [
    "정N각기둥의 각 면에 1부터 N까지의 숫자가 적혀있다. 이 각기둥은 공정하기 때문에, 각기둥을 굴렸을 때 각 눈의 수가 나올 확률은 동일하다.  \n",
    "각 눈의 수가 나올 확률을 반환하는 함수를 만드시오. 인자는 각의 수 N과 윗면 눈의 수 x이다."
   ]
  },
  {
   "cell_type": "code",
   "execution_count": null,
   "metadata": {},
   "outputs": [],
   "source": [
    "def fair_prism(N, x):\n",
    "    if x in #\n",
    "        return #\n",
    "    else:\n",
    "        return 0"
   ]
  },
  {
   "cell_type": "code",
   "execution_count": null,
   "metadata": {},
   "outputs": [],
   "source": [
    "ch1_tests.Question2(fair_prism).run()"
   ]
  },
  {
   "cell_type": "markdown",
   "metadata": {},
   "source": [
    "* * *"
   ]
  },
  {
   "cell_type": "markdown",
   "metadata": {},
   "source": [
    "### Question 3."
   ]
  },
  {
   "cell_type": "markdown",
   "metadata": {},
   "source": [
    "공정한 두 개의 동전(각각 C1, C2)을 던질 때, 다음의 확률들을 구하시오  \n",
    "a) C1이 앞면이 나올 확률을 구하시오  \n",
    "b) C2이 앞면이 나올 확률을 구하시오  \n",
    "c) C1이나 C2 둘 중 하나가 앞면이 나올 확률을 위의 두 확률을 가지고 구하시오  \n",
    "d) C1과 C2 모두 앞면이 나올 확률을, 위의 세 확률을 가지고 구하시오"
   ]
  },
  {
   "cell_type": "code",
   "execution_count": null,
   "metadata": {},
   "outputs": [],
   "source": [
    "def coin_prob():\n",
    "    # a)\n",
    "    c1_head = #\n",
    "    print(f\"P(C1='head') = {c1_head:.2f}\")\n",
    "\n",
    "    # b)\n",
    "    c2_head = #\n",
    "    print(f\"P(C2='head') = {c2_head:.2f}\")\n",
    "\n",
    "    # c)\n",
    "    c1_c2_both_head = #\n",
    "    print(f\"P(C1='head' and C2='head') = {c1_c2_both_head:.2f}\")\n",
    "\n",
    "    # d)\n",
    "    c1_c2_either_head = #\n",
    "    print(f\"P(C1='head' or C2='head') = {c1_c2_either_head:.2f}\")\n",
    "    \n",
    "    return c1_head, c2_head, c1_c2_both_head, c1_c2_either_head"
   ]
  },
  {
   "cell_type": "code",
   "execution_count": null,
   "metadata": {},
   "outputs": [],
   "source": [
    "ch1_tests.Question3(coin_prob).run()"
   ]
  }
 ],
 "metadata": {
  "kernelspec": {
   "display_name": "Python 3",
   "language": "python",
   "name": "python3"
  },
  "language_info": {
   "codemirror_mode": {
    "name": "ipython",
    "version": 3
   },
   "file_extension": ".py",
   "mimetype": "text/x-python",
   "name": "python",
   "nbconvert_exporter": "python",
   "pygments_lexer": "ipython3",
   "version": "3.7.4"
  }
 },
 "nbformat": 4,
 "nbformat_minor": 2
}
