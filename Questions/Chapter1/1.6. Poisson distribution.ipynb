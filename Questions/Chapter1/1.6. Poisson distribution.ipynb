{
 "cells": [
  {
   "cell_type": "markdown",
   "metadata": {},
   "source": [
    "### Question 1"
   ]
  },
  {
   "cell_type": "markdown",
   "metadata": {},
   "source": [
    "한 공장에서 1주일 동안 생산하는 TV 수를 X라고 할 때, X는 평균이 50인 포아송 분포를 따른다고 한다.  \n",
    "다음 질문에 답하여라.  \n",
    "a) 일주일 동안 생산된 TV가 60대 이상일 확률을 구하시오.  \n",
    "b) 일주일 동안 생산된 TV 수가 40에서 60대 사이일 확률을 구하시오. (40와 60은 포함한다)"
   ]
  }
 ],
 "metadata": {
  "kernelspec": {
   "display_name": "Python 3",
   "language": "python",
   "name": "python3"
  },
  "language_info": {
   "codemirror_mode": {
    "name": "ipython",
    "version": 3
   },
   "file_extension": ".py",
   "mimetype": "text/x-python",
   "name": "python",
   "nbconvert_exporter": "python",
   "pygments_lexer": "ipython3",
   "version": "3.7.4"
  }
 },
 "nbformat": 4,
 "nbformat_minor": 2
}
