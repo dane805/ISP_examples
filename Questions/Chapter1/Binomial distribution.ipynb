{
 "cells": [
  {
   "cell_type": "markdown",
   "metadata": {},
   "source": [
    "### Question 1\n",
    "\n",
    "최근에 팔린 자동차 중 10%는 검은색이었다. 랜덤하게 선택된 25대의 차에서 다음의 확률을 구하시오  \n",
    "a) 적어도 4대가 검은 색  \n",
    "b) 최대 6대가 검은 색  \n",
    "c) 4대 이상이 검은 색  \n",
    "d) 정확히 4대가 검은 색  \n",
    "e) 3대~4대의 자동차가 검은 색  "
   ]
  },
  {
   "cell_type": "markdown",
   "metadata": {},
   "source": [
    "* * *"
   ]
  },
  {
   "cell_type": "markdown",
   "metadata": {},
   "source": [
    "### Question 2\n",
    "\n",
    "5개의 질문으로 구성된 4지선다형 시험에서 오직 하나만이 정답일 때, 다음을 구하라  \n",
    "a) 어떤 학생이 모든 문제의 답을 맞출 확률은?  \n",
    "b) 어떤 학생이 모든 문제를 틀릴 확률은?"
   ]
  },
  {
   "cell_type": "markdown",
   "metadata": {},
   "source": [
    "* * *"
   ]
  },
  {
   "cell_type": "markdown",
   "metadata": {},
   "source": [
    "### Question 3\n",
    "\n",
    "자녀가 3명 있는 가정의 경우 다음 확률을 구하라  \n",
    "a) 적어도 한 명이 딸일 확률은?  \n",
    "b) 적어도 두 명이 딸일 확률은?\n",
    "\n",
    "*각 자녀가 딸일 확률은 50%라고 가정한다"
   ]
  },
  {
   "cell_type": "markdown",
   "metadata": {},
   "source": [
    "* * *"
   ]
  },
  {
   "cell_type": "markdown",
   "metadata": {},
   "source": [
    "### Question 4\n",
    "\n",
    "어떤 학원에서 수강하는 과목이 국어, 영어, 수학 세 과목이 있는데, 학생들은 국어, 영어, 수학 중 한 가지를 독립적으로 선택하며 이때 각 과목을 선택할 확률은 다음과 같다.  \n",
    "$P(국어)=0.3$, $P(영어)=0.2$, $P(수학)=0.5$  \n",
    "a) 앞으로 올 100명의 학생 중 국어를 선택할 사람의 수에 대한 평균과 분산을 각각 구하라.  \n",
    "b) 앞으로 올 100명의 학생 중 수학이 아닌 과목을 선택할 사람 수에 대한 평균과 분산을 각각 구하라"
   ]
  }
 ],
 "metadata": {
  "kernelspec": {
   "display_name": "Python 3",
   "language": "python",
   "name": "python3"
  },
  "language_info": {
   "codemirror_mode": {
    "name": "ipython",
    "version": 3
   },
   "file_extension": ".py",
   "mimetype": "text/x-python",
   "name": "python",
   "nbconvert_exporter": "python",
   "pygments_lexer": "ipython3",
   "version": "3.7.4"
  }
 },
 "nbformat": 4,
 "nbformat_minor": 2
}
