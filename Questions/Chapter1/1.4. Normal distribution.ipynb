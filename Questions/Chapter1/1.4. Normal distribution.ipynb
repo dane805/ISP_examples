{
 "cells": [
  {
   "cell_type": "markdown",
   "metadata": {},
   "source": [
    "### Question 1"
   ]
  },
  {
   "cell_type": "markdown",
   "metadata": {},
   "source": [
    "어떤 작은 식당의 1일 판매액(주말을 제외한)의 확률 분포는 정규 분포를 따른다고 한다.  \n",
    "평균은 50만원이고, 표준편차는 20만원이다.  \n",
    "a) 어느 날 72만원을 판매할 확률을 구하라.  \n",
    "b) 이 식당은 문을 닫기 이전에 적어도 100만원 이상을 벌어야 한다. 그러지 못할 확률을 구하라."
   ]
  },
  {
   "cell_type": "code",
   "execution_count": null,
   "metadata": {},
   "outputs": [],
   "source": [
    "def sold_prob():\n",
    "    # a\n",
    "    prob_exact_72 = #\n",
    "    print(f\"72만원을 판매할 확률: {}\")\n",
    "    \n",
    "    # b\n",
    "    prob_over_100 = #\n",
    "    print(f\"72만원 이상을 판매할 확률: {}\")\n",
    "    \n",
    "    return prob_exact_72, prob_over_100"
   ]
  },
  {
   "cell_type": "markdown",
   "metadata": {},
   "source": [
    "* * *"
   ]
  },
  {
   "cell_type": "markdown",
   "metadata": {},
   "source": [
    "### Question 2"
   ]
  },
  {
   "cell_type": "markdown",
   "metadata": {},
   "source": [
    "X는 미지의 평균 μ와 표준편차 σ=2를 가진다.  \n",
    "X가 7.5를 초과할 확률이 0.8023이라고할 때 μ를 구하시오"
   ]
  },
  {
   "cell_type": "code",
   "execution_count": null,
   "metadata": {},
   "outputs": [],
   "source": [
    "def over_prob():\n",
    "\n",
    "    prob = #\n",
    "    print(f\"X가 7.5를 초과할 확률: {}\")\n",
    "\n",
    "    return prob"
   ]
  }
 ],
 "metadata": {
  "kernelspec": {
   "display_name": "Python 3",
   "language": "python",
   "name": "python3"
  },
  "language_info": {
   "codemirror_mode": {
    "name": "ipython",
    "version": 3
   },
   "file_extension": ".py",
   "mimetype": "text/x-python",
   "name": "python",
   "nbconvert_exporter": "python",
   "pygments_lexer": "ipython3",
   "version": "3.7.4"
  }
 },
 "nbformat": 4,
 "nbformat_minor": 2
}
