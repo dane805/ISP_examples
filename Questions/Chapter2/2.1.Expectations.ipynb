{
 "cells": [
  {
   "cell_type": "markdown",
   "metadata": {},
   "source": [
    "### Question 1"
   ]
  },
  {
   "cell_type": "markdown",
   "metadata": {},
   "source": [
    "X의 확률 분포가 다음과 같을 때, 중앙값과 평균, 최빈값을 찾아라  "
   ]
  },
  {
   "cell_type": "markdown",
   "metadata": {},
   "source": [
    "a) $P(X) = (\\frac 1 2)^x, ~~ for~~ x = 1,2,3... zero~~elsewhere$  "
   ]
  },
  {
   "cell_type": "markdown",
   "metadata": {},
   "source": [
    "b) $f(x) = 12x^2 (1-x), ~0<x<1,~~zero~elsewhere$"
   ]
  },
  {
   "cell_type": "markdown",
   "metadata": {},
   "source": [
    "* * *"
   ]
  },
  {
   "cell_type": "markdown",
   "metadata": {},
   "source": [
    "### Question 2"
   ]
  },
  {
   "cell_type": "markdown",
   "metadata": {},
   "source": [
    "미국식 룰렛 게임을 다음과 같은 규칙으로 실시한다고 하자. 기대 이익을 구하여라.  \n",
    "1. 빨강 또는 검정에 배팅한다. 각 배팅에서 승리할 확률은 50%이며, 승리할 시 배팅한 돈의 두 배를 돌려준다.  \n",
    "2. 첫 게임에 10,000원을 배팅하고 게임에서 지면 두 번째 게임에 20,000원을 배팅하고 또 진다면 다음에는 40,000원을 배팅한다.  \n",
    "3. 한 번이라도 이기면 배팅을 중단한다.  \n",
    "4. 최대 5번만 배팅한다. 즉, 5번째 게임 후에 게임 결과에 상관없이 배팅을 중단한다."
   ]
  },
  {
   "cell_type": "markdown",
   "metadata": {},
   "source": [
    "* * *"
   ]
  },
  {
   "cell_type": "markdown",
   "metadata": {},
   "source": [
    "### Question 3"
   ]
  },
  {
   "cell_type": "markdown",
   "metadata": {},
   "source": [
    "$E(X) = 5$이고 $E(X(X-1))$ = 27.5일 때 다음 물음에 답하라.  \n",
    "a) $E(X^2)$와 $Var(X)$를 구하라.  \n",
    "b) $E(X)$, $E(X(X-1))$, $Var(X)$의 관계를 밝혀라.  "
   ]
  }
 ],
 "metadata": {
  "kernelspec": {
   "display_name": "Python 3",
   "language": "python",
   "name": "python3"
  },
  "language_info": {
   "codemirror_mode": {
    "name": "ipython",
    "version": 3
   },
   "file_extension": ".py",
   "mimetype": "text/x-python",
   "name": "python",
   "nbconvert_exporter": "python",
   "pygments_lexer": "ipython3",
   "version": "3.7.4"
  }
 },
 "nbformat": 4,
 "nbformat_minor": 2
}
