{
 "cells": [
  {
   "cell_type": "markdown",
   "metadata": {},
   "source": [
    "### Question 1"
   ]
  },
  {
   "cell_type": "markdown",
   "metadata": {},
   "source": [
    "Monte Carlo를 이용해 다음을 푸시오.  \n",
    "a) 가로와 세로가 1인 정사각형 안에 존재하는 반지름 1인 원의 넓이를 구하고, 이를 시각화하시오.  \n",
    "b) 지름 1인 원 안에서 임의의 두 점을 골랐을 때, 두 점 사이의 거리의 분포를 구하고, 이를 시각화하시오."
   ]
  }
 ],
 "metadata": {
  "kernelspec": {
   "display_name": "Python 3",
   "language": "python",
   "name": "python3"
  },
  "language_info": {
   "codemirror_mode": {
    "name": "ipython",
    "version": 3
   },
   "file_extension": ".py",
   "mimetype": "text/x-python",
   "name": "python",
   "nbconvert_exporter": "python",
   "pygments_lexer": "ipython3",
   "version": "3.7.4"
  }
 },
 "nbformat": 4,
 "nbformat_minor": 2
}
