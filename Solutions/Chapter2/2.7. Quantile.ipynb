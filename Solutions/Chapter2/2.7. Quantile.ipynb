{
 "cells": [
  {
   "cell_type": "code",
   "execution_count": 1,
   "metadata": {},
   "outputs": [],
   "source": [
    "from scipy.stats import norm\n",
    "\n",
    "def iq_percentile(q, mu, std):\n",
    "    iq = norm.ppf(1-q) * 24 + 100\n",
    "    print(f\"IQ가 평균 {mu}, 표준편차 {std}인 정규 분포를 따를 때\")\n",
    "    print(f\"상위 {q*100:.2f}%의 IQ: {iq:.2f}\")"
   ]
  },
  {
   "cell_type": "code",
   "execution_count": 2,
   "metadata": {},
   "outputs": [
    {
     "name": "stdout",
     "output_type": "stream",
     "text": [
      "IQ가 평균 100, 표준편차 24인 정규 분포를 따를 때\n",
      "상위 1.00%의 IQ: 155.83\n",
      "IQ가 평균 100, 표준편차 24인 정규 분포를 따를 때\n",
      "상위 10.00%의 IQ: 130.76\n",
      "IQ가 평균 100, 표준편차 16인 정규 분포를 따를 때\n",
      "상위 2.50%의 IQ: 147.04\n",
      "IQ가 평균 100, 표준편차 16인 정규 분포를 따를 때\n",
      "상위 50.00%의 IQ: 100.00\n"
     ]
    }
   ],
   "source": [
    "iq_percentile(0.01, 100, 24)\n",
    "\n",
    "iq_percentile(0.10, 100, 24)\n",
    "\n",
    "iq_percentile(0.025, 100, 16)\n",
    "\n",
    "iq_percentile(0.5, 100, 16)"
   ]
  },
  {
   "cell_type": "code",
   "execution_count": null,
   "metadata": {},
   "outputs": [],
   "source": []
  }
 ],
 "metadata": {
  "kernelspec": {
   "display_name": "Python 3",
   "language": "python",
   "name": "python3"
  },
  "language_info": {
   "codemirror_mode": {
    "name": "ipython",
    "version": 3
   },
   "file_extension": ".py",
   "mimetype": "text/x-python",
   "name": "python",
   "nbconvert_exporter": "python",
   "pygments_lexer": "ipython3",
   "version": "3.7.4"
  }
 },
 "nbformat": 4,
 "nbformat_minor": 2
}
