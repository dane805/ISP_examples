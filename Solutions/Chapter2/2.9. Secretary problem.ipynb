{
 "cells": [
  {
   "cell_type": "code",
   "execution_count": 1,
   "metadata": {},
   "outputs": [],
   "source": [
    "import random\n",
    "\n",
    "import matplotlib.pyplot as plt\n",
    "\n",
    "def interview(k):\n",
    "    scores = list(range(1, 101))\n",
    "    random.shuffle(scores)\n",
    "\n",
    "    explore = scores[:k]\n",
    "    max_explore = max(explore)\n",
    "\n",
    "    max_found = False\n",
    "    for idx, score in enumerate(scores[k:]):\n",
    "        if score > max_explore:\n",
    "            if score == 100:\n",
    "                return True\n",
    "            else:\n",
    "                return False\n",
    "\n",
    "    return False\n",
    "\n",
    "def interview_iterator(n, k):\n",
    "    interviewed = [interview(k) for i in range(n)]\n",
    "    found_count = sum([i for i in interviewed])\n",
    "    print(f\"{n}회 중 성공 횟수: {found_count}({100 * found_count / n}%)\")"
   ]
  },
  {
   "cell_type": "code",
   "execution_count": 2,
   "metadata": {},
   "outputs": [
    {
     "name": "stdout",
     "output_type": "stream",
     "text": [
      "10000회 중 성공 횟수: 3408(34.08%)\n",
      "10000회 중 성공 횟수: 2229(22.29%)\n",
      "10000회 중 성공 횟수: 3524(35.24%)\n",
      "10000회 중 성공 횟수: 3693(36.93%)\n"
     ]
    }
   ],
   "source": [
    "interview_iterator(10000, 50)\n",
    "\n",
    "interview_iterator(10000, 75)\n",
    "\n",
    "interview_iterator(10000, 25)\n",
    "\n",
    "interview_iterator(10000, 37)"
   ]
  },
  {
   "cell_type": "code",
   "execution_count": 3,
   "metadata": {},
   "outputs": [],
   "source": [
    "import random\n",
    "\n",
    "def interview(k):\n",
    "    scores = list(range(1, 101))\n",
    "    random.shuffle(scores)\n",
    "\n",
    "    explore = scores[:k]\n",
    "    max_explore = max(explore)\n",
    "\n",
    "    max_found = False\n",
    "    for idx, score in enumerate(scores[k:]):\n",
    "        if score > max_explore:\n",
    "            if score == 100:\n",
    "                return 100\n",
    "            else:\n",
    "                return score\n",
    "\n",
    "    return scores[-1]\n",
    "\n",
    "def interview_iterator(n, k):\n",
    "    interviewd = [interview(k) for i in range(n)]\n",
    "    found_count = sum([i for i in interviewd])\n",
    "    print(f\"{n}회 중 성공 횟수: {found_count}({100 * found_count / n}%)\")"
   ]
  },
  {
   "cell_type": "code",
   "execution_count": null,
   "metadata": {},
   "outputs": [],
   "source": [
    "n, k = 100000, 37\n",
    "interviewd = [interview(k) for i in range(n)]\n",
    "found_count = sum([i for i in interviewd])\n",
    "\n",
    "sum([i==100 for i in interviewd ])\n",
    "\n",
    "plt.figure(figsize=(7,4))\n",
    "plt.hist(interviewd, color='skyblue', density=True, bins=50)\n",
    "plt.xlabel('score')\n",
    "plt.savefig(f\"./images/2.9.png\")"
   ]
  }
 ],
 "metadata": {
  "kernelspec": {
   "display_name": "Python 3",
   "language": "python",
   "name": "python3"
  },
  "language_info": {
   "codemirror_mode": {
    "name": "ipython",
    "version": 3
   },
   "file_extension": ".py",
   "mimetype": "text/x-python",
   "name": "python",
   "nbconvert_exporter": "python",
   "pygments_lexer": "ipython3",
   "version": "3.8.5"
  }
 },
 "nbformat": 4,
 "nbformat_minor": 2
}
