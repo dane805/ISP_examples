{
 "cells": [
  {
   "cell_type": "code",
   "execution_count": 1,
   "metadata": {},
   "outputs": [],
   "source": [
    "from collections import Counter, OrderedDict\n",
    "from scipy.stats import norm, binom\n",
    "import numpy as np\n",
    "\n",
    "def binom_counter(size):\n",
    "    samples = binom.rvs(5, 0.3, size=size)\n",
    "\n",
    "    for value, count in sorted(Counter(samples).items()):\n",
    "        print(f\"값이 {value}인 표본의 수: {count}({100*count/size:.2f}%)\")\n",
    "\n",
    "def compare_sample_prob(lower_bound, upper_bound):\n",
    "    norm_samples = norm.rvs(0, 1, 100000)\n",
    "\n",
    "    target_samples = [sample for sample in norm_samples if lower_bound < sample <= upper_bound]\n",
    "    target_sample_prop = len(target_samples) / len(norm_samples)\n",
    "    target_prob = norm.cdf(upper_bound) - norm.cdf(lower_bound)\n",
    "\n",
    "    print(f\"표본에서 타겟 샘플의 비율: {target_sample_prop:.4f}\")\n",
    "    print(f\"확률 분포에서 타겟 샘플의 확률: {target_prob:.4f}\")"
   ]
  },
  {
   "cell_type": "code",
   "execution_count": 2,
   "metadata": {},
   "outputs": [
    {
     "name": "stdout",
     "output_type": "stream",
     "text": [
      "값이 0인 표본의 수: 168184(16.82%)\n",
      "값이 1인 표본의 수: 359470(35.95%)\n",
      "값이 2인 표본의 수: 308667(30.87%)\n",
      "값이 3인 표본의 수: 132588(13.26%)\n",
      "값이 4인 표본의 수: 28740(2.87%)\n",
      "값이 5인 표본의 수: 2351(0.24%)\n"
     ]
    }
   ],
   "source": [
    "binom_counter(1000000)"
   ]
  },
  {
   "cell_type": "markdown",
   "metadata": {},
   "source": [
    "값이 0인 표본의 수: 167577(16.76%)  \n",
    "값이 1인 표본의 수: 360226(36.02%)  \n",
    "값이 2인 표본의 수: 309238(30.92%)  \n",
    "값이 3인 표본의 수: 132194(13.22%)  \n",
    "값이 4인 표본의 수: 28355(2.84%)  \n",
    "값이 5인 표본의 수: 2410(0.24%)"
   ]
  },
  {
   "cell_type": "code",
   "execution_count": 3,
   "metadata": {},
   "outputs": [
    {
     "name": "stdout",
     "output_type": "stream",
     "text": [
      "표본에서 타겟 샘플의 비율: 0.3419\n",
      "확률 분포에서 타겟 샘플의 확률: 0.3413\n",
      "표본에서 타겟 샘플의 비율: 0.4773\n",
      "확률 분포에서 타겟 샘플의 확률: 0.4772\n",
      "표본에서 타겟 샘플의 비율: 0.5010\n",
      "확률 분포에서 타겟 샘플의 확률: 0.4987\n",
      "표본에서 타겟 샘플의 비율: 0.3412\n",
      "확률 분포에서 타겟 샘플의 확률: 0.3413\n",
      "표본에서 타겟 샘플의 비율: 0.4974\n",
      "확률 분포에서 타겟 샘플의 확률: 0.5000\n",
      "표본에서 타겟 샘플의 비율: 0.6823\n",
      "확률 분포에서 타겟 샘플의 확률: 0.6827\n"
     ]
    }
   ],
   "source": [
    "compare_sample_prob(0, 1)\n",
    "\n",
    "compare_sample_prob(0, 2)\n",
    "\n",
    "compare_sample_prob(0, 3)\n",
    "\n",
    "compare_sample_prob(-1, 0)\n",
    "\n",
    "compare_sample_prob(-np.inf, 0)\n",
    "\n",
    "compare_sample_prob(-1, 1)"
   ]
  },
  {
   "cell_type": "code",
   "execution_count": null,
   "metadata": {},
   "outputs": [],
   "source": []
  }
 ],
 "metadata": {
  "kernelspec": {
   "display_name": "Python 3",
   "language": "python",
   "name": "python3"
  },
  "language_info": {
   "codemirror_mode": {
    "name": "ipython",
    "version": 3
   },
   "file_extension": ".py",
   "mimetype": "text/x-python",
   "name": "python",
   "nbconvert_exporter": "python",
   "pygments_lexer": "ipython3",
   "version": "3.7.4"
  }
 },
 "nbformat": 4,
 "nbformat_minor": 2
}
