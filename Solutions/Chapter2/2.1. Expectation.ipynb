{
 "cells": [
  {
   "cell_type": "code",
   "execution_count": 1,
   "metadata": {},
   "outputs": [],
   "source": [
    "from scipy.stats import binom\n",
    "def binom_exp(n, p):\n",
    "    '''\n",
    "    이항 분포에 대해, 주어진 모수를 가지고 모든 가능한 경우의 수의 확률을 구하고, \n",
    "    이를 토대로 평균과 분산이라는 기댓값을 구해보자\n",
    "    '''\n",
    "    xs = range(n+1)\n",
    "    probs = [binom.pmf(x, n, p) for x in xs]\n",
    "    mean = sum([x*prob for x, prob in zip(xs, probs)])\n",
    "    var = sum([((x-mean)**2)*prob for x, prob in zip(xs, probs)])\n",
    "\n",
    "    print(f\"Binom({n}, {p})의 평균: {mean:.2f}\")\n",
    "    print(f\"Binom({n}, {p})의 분산: {var:.2f}\")"
   ]
  },
  {
   "cell_type": "code",
   "execution_count": 6,
   "metadata": {},
   "outputs": [
    {
     "name": "stdout",
     "output_type": "stream",
     "text": [
      "Binom(10, 0.2)의 평균: 2.00\n",
      "Binom(10, 0.2)의 분산: 1.60\n",
      "Binom(3, 0.9)의 평균: 2.70\n",
      "Binom(3, 0.9)의 분산: 0.27\n",
      "Binom(200, 0.05)의 평균: 10.00\n",
      "Binom(200, 0.05)의 분산: 9.50\n",
      "Binom(200, 0.5)의 평균: 100.00\n",
      "Binom(200, 0.5)의 분산: 50.00\n"
     ]
    }
   ],
   "source": [
    "binom_exp(10, .2)\n",
    "\n",
    "binom_exp(3, .9)\n",
    "\n",
    "binom_exp(200, .05)\n",
    "\n",
    "binom_exp(200, .5)"
   ]
  },
  {
   "cell_type": "code",
   "execution_count": null,
   "metadata": {},
   "outputs": [],
   "source": []
  }
 ],
 "metadata": {
  "colab": {
   "collapsed_sections": [],
   "name": "item01.ipynb",
   "provenance": [],
   "toc_visible": true
  },
  "kernelspec": {
   "display_name": "Python 3",
   "language": "python",
   "name": "python3"
  },
  "language_info": {
   "codemirror_mode": {
    "name": "ipython",
    "version": 3
   },
   "file_extension": ".py",
   "mimetype": "text/x-python",
   "name": "python",
   "nbconvert_exporter": "python",
   "pygments_lexer": "ipython3",
   "version": "3.7.4"
  }
 },
 "nbformat": 4,
 "nbformat_minor": 1
}
