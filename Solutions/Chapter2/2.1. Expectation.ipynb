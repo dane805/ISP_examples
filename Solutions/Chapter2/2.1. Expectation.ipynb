{
 "cells": [
  {
   "cell_type": "code",
   "execution_count": 1,
   "metadata": {},
   "outputs": [],
   "source": [
    "import numpy as np"
   ]
  },
  {
   "cell_type": "markdown",
   "metadata": {},
   "source": [
    "### Solution 1"
   ]
  },
  {
   "cell_type": "code",
   "execution_count": 2,
   "metadata": {},
   "outputs": [
    {
     "name": "stdout",
     "output_type": "stream",
     "text": [
      "평균: 2.0000\n",
      "최빈값: 1\n",
      "중앙값: 1\n"
     ]
    }
   ],
   "source": [
    "def p(x):\n",
    "    # 자연수인 경우에만 확률 값을 반환\n",
    "    if x > 0 and x % 1 == 0:\n",
    "        return (0.5)**x\n",
    "    else:\n",
    "        return 0\n",
    "\n",
    "# mean\n",
    "x_range = range(100000)\n",
    "mean_x = sum(x*p(x) for x in x_range)\n",
    "print(f\"평균: {mean_x:.4f}\")\n",
    "\n",
    "# mode\n",
    "prob_dic = {x:p(x) for x in x_range}\n",
    "max_x = max(prob_dic, key=prob_dic.get)\n",
    "print(f\"최빈값: {max_x}\")\n",
    "\n",
    "# median, withour interpolation\n",
    "prop_sum = {-1:0}\n",
    "for x in x_range:\n",
    "    prop_sum[x] = prop_sum[x-1] + p(x)\n",
    "    if prop_sum[x] >= 0.5: break\n",
    "print(f\"중앙값: {x}\")"
   ]
  },
  {
   "cell_type": "code",
   "execution_count": 3,
   "metadata": {},
   "outputs": [],
   "source": [
    "def p(x):\n",
    "    # 0과 1 사이인 경우에만 확률 값을 반환\n",
    "    if 0 < x < 1:\n",
    "        return 12*(x**2)*(1-x)\n",
    "    else:\n",
    "        return 0"
   ]
  },
  {
   "cell_type": "code",
   "execution_count": 4,
   "metadata": {},
   "outputs": [
    {
     "name": "stdout",
     "output_type": "stream",
     "text": [
      "평균: 1.0000\n",
      "중앙값: 1.0000\n"
     ]
    }
   ],
   "source": [
    "# mean\n",
    "n = 10000\n",
    "x_range = [i/n for i in range(0, n)]\n",
    "\n",
    "mean_x = sum([p(x)/(n) for x in x_range]) # rhimman sum\n",
    "print(f\"평균: {mean_x:.4f}\")\n",
    "\n",
    "mode_x = sum([p(x)/(n) for x in x_range])\n",
    "print(f\"중앙값: {mode_x:.4f}\")"
   ]
  }
 ],
 "metadata": {
  "kernelspec": {
   "display_name": "Python 3",
   "language": "python",
   "name": "python3"
  },
  "language_info": {
   "codemirror_mode": {
    "name": "ipython",
    "version": 3
   },
   "file_extension": ".py",
   "mimetype": "text/x-python",
   "name": "python",
   "nbconvert_exporter": "python",
   "pygments_lexer": "ipython3",
   "version": "3.7.4"
  }
 },
 "nbformat": 4,
 "nbformat_minor": 2
}
