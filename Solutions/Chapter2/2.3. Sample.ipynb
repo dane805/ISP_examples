{
 "cells": [
  {
   "cell_type": "code",
   "execution_count": 1,
   "metadata": {},
   "outputs": [],
   "source": [
    "import numpy as np\n",
    "def normal_sample_comparison(n, mu, sigma):\n",
    "    '''\n",
    "    정규 분포으로부터 n개의 샘플을 난수 추출한 뒤, 표본 평균과 분산을 실제 모수와 비교해보자\n",
    "    '''\n",
    "    samples = np.random.normal(mu, sigma, n)\n",
    "\n",
    "    sample_mean = np.mean(samples)\n",
    "    sample_sigma = np.std(samples)\n",
    "\n",
    "    print(f\"Norm({mu}, {sigma}^2)의 표본 평균: {sample_mean:.2f}\")\n",
    "    print(f\"Norm({mu}, {sigma}^2)의 표본 표준편차: {sample_sigma:.2f}\")"
   ]
  },
  {
   "cell_type": "code",
   "execution_count": 4,
   "metadata": {},
   "outputs": [],
   "source": [
    "np.random.seed(85)"
   ]
  },
  {
   "cell_type": "code",
   "execution_count": 5,
   "metadata": {},
   "outputs": [
    {
     "name": "stdout",
     "output_type": "stream",
     "text": [
      "Norm(50, 3^2)의 표본 평균: 49.78\n",
      "Norm(50, 3^2)의 표본 표준편차: 3.10\n",
      "Norm(20, 7^2)의 표본 평균: 16.40\n",
      "Norm(20, 7^2)의 표본 표준편차: 4.15\n",
      "Norm(0, 100^2)의 표본 평균: 0.22\n",
      "Norm(0, 100^2)의 표본 표준편차: 99.89\n"
     ]
    }
   ],
   "source": [
    "normal_sample_comparison(100, 50, 3)\n",
    "\n",
    "normal_sample_comparison(10, 20, 7)\n",
    "\n",
    "normal_sample_comparison(10000, 0, 100)"
   ]
  },
  {
   "cell_type": "code",
   "execution_count": null,
   "metadata": {},
   "outputs": [],
   "source": []
  }
 ],
 "metadata": {
  "colab": {
   "collapsed_sections": [],
   "name": "item01.ipynb",
   "provenance": [],
   "toc_visible": true
  },
  "kernelspec": {
   "display_name": "Python 3",
   "language": "python",
   "name": "python3"
  },
  "language_info": {
   "codemirror_mode": {
    "name": "ipython",
    "version": 3
   },
   "file_extension": ".py",
   "mimetype": "text/x-python",
   "name": "python",
   "nbconvert_exporter": "python",
   "pygments_lexer": "ipython3",
   "version": "3.7.4"
  }
 },
 "nbformat": 4,
 "nbformat_minor": 1
}
