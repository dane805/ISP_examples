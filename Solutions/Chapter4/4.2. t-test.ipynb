{
 "cells": [
  {
   "cell_type": "code",
   "execution_count": 1,
   "metadata": {},
   "outputs": [],
   "source": [
    "import time\n",
    "\n",
    "import numpy as np\n",
    "import matplotlib.pyplot as plt\n",
    "from scipy import stats"
   ]
  },
  {
   "cell_type": "code",
   "execution_count": 2,
   "metadata": {},
   "outputs": [],
   "source": [
    "append_direct_time = []\n",
    "for _ in range(1000):\n",
    "    start = time.time()\n",
    "    num_list = []\n",
    "    for i in range(10000):\n",
    "        num_list.append(i)\n",
    "    end = time.time()\n",
    "    append_direct_time.append(end-start)\n",
    "\n",
    "append_assign_time = []\n",
    "for _ in range(1000):\n",
    "    start = time.time()\n",
    "    num_list = []\n",
    "    list_append = num_list.append\n",
    "    for i in range(10000):\n",
    "        list_append(i)\n",
    "    end = time.time()\n",
    "    append_assign_time.append(end-start)"
   ]
  },
  {
   "cell_type": "code",
   "execution_count": 3,
   "metadata": {},
   "outputs": [
    {
     "data": {
      "image/png": "[encoded data removed]",
      "text/plain": [
       "<Figure size 432x288 with 1 Axes>"
      ]
     },
     "metadata": {
      "needs_background": "light"
     },
     "output_type": "display_data"
    }
   ],
   "source": [
    "x_max = max(append_direct_time + append_assign_time)\n",
    "x_min = min(append_direct_time + append_assign_time)\n",
    "bins = np.arange(x_min, x_max, step=(x_max-x_min)/20)\n",
    "\n",
    "plt.hist(append_direct_time, color='skyblue', alpha=0.5, bins=bins)\n",
    "plt.hist(append_assign_time, color='pink', alpha=0.5, bins=bins)\n",
    "plt.legend(['append_direct_time', 'append_assign_time'])\n",
    "plt.show()"
   ]
  },
  {
   "cell_type": "code",
   "execution_count": 4,
   "metadata": {},
   "outputs": [
    {
     "name": "stdout",
     "output_type": "stream",
     "text": [
      "t통계량: 28.84\n",
      "p값: 0.0000\n"
     ]
    }
   ],
   "source": [
    "t_statistic, p_value = stats.ttest_ind(append_direct_time,append_assign_time)\n",
    "print(f\"t통계량: {t_statistic:.2f}\")\n",
    "print(f\"p값: {p_value:.4f}\")"
   ]
  }
 ],
 "metadata": {
  "kernelspec": {
   "display_name": "Python 3",
   "language": "python",
   "name": "python3"
  },
  "language_info": {
   "codemirror_mode": {
    "name": "ipython",
    "version": 3
   },
   "file_extension": ".py",
   "mimetype": "text/x-python",
   "name": "python",
   "nbconvert_exporter": "python",
   "pygments_lexer": "ipython3",
   "version": "3.7.4"
  }
 },
 "nbformat": 4,
 "nbformat_minor": 2
}
