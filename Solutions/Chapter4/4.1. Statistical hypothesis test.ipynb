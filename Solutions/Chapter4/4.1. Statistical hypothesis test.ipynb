{
 "cells": [
  {
   "cell_type": "code",
   "execution_count": 1,
   "metadata": {},
   "outputs": [],
   "source": [
    "import time\n",
    "import numpy as np\n",
    "import matplotlib.pyplot as plt"
   ]
  },
  {
   "cell_type": "code",
   "execution_count": 2,
   "metadata": {},
   "outputs": [],
   "source": [
    "append_direct_time = []\n",
    "for _ in range(1000):\n",
    "    start = time.time()\n",
    "    num_list = []\n",
    "    for i in range(10000):\n",
    "        num_list.append(i)\n",
    "    end = time.time()\n",
    "    append_direct_time.append(end-start)\n",
    "\n",
    "append_assign_time = []\n",
    "for _ in range(1000):\n",
    "    start = time.time()\n",
    "    num_list = []\n",
    "    list_append = num_list.append\n",
    "    for i in range(10000):\n",
    "        list_append(i)\n",
    "    end = time.time()\n",
    "    append_assign_time.append(end-start)"
   ]
  },
  {
   "cell_type": "code",
   "execution_count": 3,
   "metadata": {},
   "outputs": [
    {
     "name": "stdout",
     "output_type": "stream",
     "text": [
      "append_direct_time의 평균: 0.000813\n",
      "append_direct_time의 중간값: 0.000776\n",
      "append_direct_time의 표준편차: 0.000000\n",
      "append_direct_time의 최솟값: 0.000770\n",
      "append_direct_time의 최댓값: 0.003942\n",
      "append_assign_time의 평균: 0.000705\n",
      "append_assign_time의 중간값: 0.000692\n",
      "append_assign_time의 표준편차: 0.000000\n",
      "append_assign_time의 최솟값: 0.000684\n",
      "append_assign_time의 최댓값: 0.001285\n"
     ]
    }
   ],
   "source": [
    "print(f\"append_direct_time의 평균: {np.mean(append_direct_time):.6f}\")\n",
    "print(f\"append_direct_time의 중간값: {np.median(append_direct_time):.6f}\")\n",
    "print(f\"append_direct_time의 표준편차: {np.var(append_direct_time):.6f}\")\n",
    "print(f\"append_direct_time의 최솟값: {np.min(append_direct_time):.6f}\")\n",
    "print(f\"append_direct_time의 최댓값: {np.max(append_direct_time):.6f}\")\n",
    "\n",
    "print(f\"append_assign_time의 평균: {np.mean(append_assign_time):.6f}\")\n",
    "print(f\"append_assign_time의 중간값: {np.median(append_assign_time):.6f}\")\n",
    "print(f\"append_assign_time의 표준편차: {np.var(append_assign_time):.6f}\")\n",
    "print(f\"append_assign_time의 최솟값: {np.min(append_assign_time):.6f}\")\n",
    "print(f\"append_assign_time의 최댓값: {np.max(append_assign_time):.6f}\")"
   ]
  },
  {
   "cell_type": "code",
   "execution_count": 4,
   "metadata": {},
   "outputs": [
    {
     "data": {
      "image/png": "[encoded data removed]",
      "text/plain": [
       "<Figure size 432x288 with 1 Axes>"
      ]
     },
     "metadata": {
      "needs_background": "light"
     },
     "output_type": "display_data"
    }
   ],
   "source": [
    "x_max = max(append_direct_time + append_assign_time)\n",
    "x_min = min(append_direct_time + append_assign_time)\n",
    "bins = np.arange(x_min, x_max, step=(x_max-x_min)/20)\n",
    "\n",
    "plt.hist(append_direct_time, color='skyblue', alpha=0.5, bins=bins)\n",
    "plt.hist(append_assign_time, color='pink', alpha=0.5, bins=bins)\n",
    "plt.legend(['append_direct_time', 'append_assign_time'])\n",
    "plt.savefig(f\"./images/4.1.png\")\n",
    "plt.show()"
   ]
  },
  {
   "cell_type": "code",
   "execution_count": null,
   "metadata": {},
   "outputs": [],
   "source": []
  }
 ],
 "metadata": {
  "kernelspec": {
   "display_name": "Python 3",
   "language": "python",
   "name": "python3"
  },
  "language_info": {
   "codemirror_mode": {
    "name": "ipython",
    "version": 3
   },
   "file_extension": ".py",
   "mimetype": "text/x-python",
   "name": "python",
   "nbconvert_exporter": "python",
   "pygments_lexer": "ipython3",
   "version": "3.8.5"
  }
 },
 "nbformat": 4,
 "nbformat_minor": 2
}
