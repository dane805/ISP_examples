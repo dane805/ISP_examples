{
 "cells": [
  {
   "cell_type": "code",
   "execution_count": 121,
   "metadata": {},
   "outputs": [],
   "source": [
    "import time\n",
    "\n",
    "import numpy as np\n",
    "from scipy.stats import t"
   ]
  },
  {
   "cell_type": "code",
   "execution_count": 118,
   "metadata": {},
   "outputs": [],
   "source": [
    "n1 = n2 = 1000\n",
    "\n",
    "append_direct_time = []\n",
    "for _ in range(n2):\n",
    "    start = time.time()\n",
    "    num_list = []\n",
    "    for i in range(10000):\n",
    "        num_list.append(i)\n",
    "    end = time.time()\n",
    "    append_direct_time.append(end-start)\n",
    "\n",
    "append_assign_time = []\n",
    "for _ in range(n1):\n",
    "    start = time.time()\n",
    "    num_list = []\n",
    "    list_append = num_list.append\n",
    "    for i in range(10000):\n",
    "        list_append(i)\n",
    "    end = time.time()\n",
    "    append_assign_time.append(end-start)"
   ]
  },
  {
   "cell_type": "code",
   "execution_count": 127,
   "metadata": {},
   "outputs": [
    {
     "name": "stdout",
     "output_type": "stream",
     "text": [
      "P-value: 0.0000\n"
     ]
    }
   ],
   "source": [
    "X_bar1 = np.mean(append_direct_time)\n",
    "X_bar2 = np.mean(append_assign_time)\n",
    "sigma1 = np.std(append_direct_time, ddof=1)\n",
    "sigma2 = np.std(append_assign_time, ddof=1)\n",
    "\n",
    "s_delta = np.sqrt( ((sigma1**2)/n1) + ((sigma2**2)/n2))\n",
    "df = (s_delta**4) / ( ( (sigma1**4) / ((n1**2)*(n1-1)) ) + ( (sigma2**4) / ((n2**2)*(n2-1)) ) )\n",
    "\n",
    "T = (X_bar1 - X_bar2) / s_delta\n",
    "p_value = t.cdf(-abs(T), df) * 2\n",
    "print(f\"P-value: {p_value:.4f}\")"
   ]
  }
 ],
 "metadata": {
  "kernelspec": {
   "display_name": "Python 3",
   "language": "python",
   "name": "python3"
  },
  "language_info": {
   "codemirror_mode": {
    "name": "ipython",
    "version": 3
   },
   "file_extension": ".py",
   "mimetype": "text/x-python",
   "name": "python",
   "nbconvert_exporter": "python",
   "pygments_lexer": "ipython3",
   "version": "3.7.4"
  }
 },
 "nbformat": 4,
 "nbformat_minor": 2
}
