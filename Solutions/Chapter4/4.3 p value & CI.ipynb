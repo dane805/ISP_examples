{
 "cells": [
  {
   "cell_type": "code",
   "execution_count": 1,
   "metadata": {},
   "outputs": [],
   "source": [
    "import time\n",
    "\n",
    "import numpy as np\n",
    "from scipy.stats import t"
   ]
  },
  {
   "cell_type": "code",
   "execution_count": 2,
   "metadata": {},
   "outputs": [],
   "source": [
    "def t_test_calculator(n, alpha):\n",
    "    normal_sample = np.random.normal(0, 1, n)\n",
    "\n",
    "    X_bar = normal_sample.mean()\n",
    "    df = n - 1\n",
    "    std = normal_sample.std(ddof=1)\n",
    "    se = (std/np.sqrt(n))\n",
    "    T = X_bar / se\n",
    "    p_value = t.cdf(-abs(T), df) * 2\n",
    "    ci = t.interval(1-alpha, df, loc=X_bar, scale=se)\n",
    "\n",
    "    return (p_value, *ci)"
   ]
  },
  {
   "cell_type": "code",
   "execution_count": 3,
   "metadata": {},
   "outputs": [
    {
     "name": "stdout",
     "output_type": "stream",
     "text": [
      "n = 10, p-values: 0.1246, CI: (-1.14, 0.16)\n",
      "n = 13, p-values: 0.9420, CI: (-0.58, 0.54)\n",
      "n = 16, p-values: 0.7395, CI: (-0.62, 0.45)\n",
      "n = 19, p-values: 0.4343, CI: (-0.33, 0.73)\n",
      "n = 22, p-values: 0.8286, CI: (-0.50, 0.41)\n",
      "n = 25, p-values: 0.4009, CI: (-0.22, 0.54)\n",
      "n = 28, p-values: 0.9661, CI: (-0.33, 0.32)\n",
      "n = 31, p-values: 0.0813, CI: (-0.04, 0.59)\n",
      "n = 34, p-values: 0.9787, CI: (-0.32, 0.31)\n",
      "n = 37, p-values: 0.4664, CI: (-0.52, 0.24)\n",
      "n = 40, p-values: 0.4407, CI: (-0.48, 0.21)\n",
      "n = 43, p-values: 0.0210, CI: (0.06, 0.67)\n",
      "n = 46, p-values: 0.9555, CI: (-0.32, 0.34)\n",
      "n = 49, p-values: 0.0762, CI: (-0.57, 0.03)\n"
     ]
    }
   ],
   "source": [
    "np.random.seed(805)\n",
    "\n",
    "alpha = 0.05\n",
    "ns = np.arange(10, 50, 3)\n",
    "p_values = []\n",
    "ci_lowers = []\n",
    "ci_uppers = []\n",
    "\n",
    "for n in ns:\n",
    "    p_value, ci_lower, ci_upper = t_test_calculator(n, alpha)\n",
    "    print(f\"n = {n}, p-values: {p_value:.4f}, CI: ({ci_lower:.2f}, {ci_upper:.2f})\")\n",
    "    p_values.append(p_value)\n",
    "    ci_lowers.append(ci_lower)\n",
    "    ci_uppers.append(ci_upper)"
   ]
  }
 ],
 "metadata": {
  "kernelspec": {
   "display_name": "Python 3",
   "language": "python",
   "name": "python3"
  },
  "language_info": {
   "codemirror_mode": {
    "name": "ipython",
    "version": 3
   },
   "file_extension": ".py",
   "mimetype": "text/x-python",
   "name": "python",
   "nbconvert_exporter": "python",
   "pygments_lexer": "ipython3",
   "version": "3.7.4"
  }
 },
 "nbformat": 4,
 "nbformat_minor": 2
}
