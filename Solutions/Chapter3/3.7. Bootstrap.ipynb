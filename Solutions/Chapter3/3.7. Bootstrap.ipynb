{
 "cells": [
  {
   "cell_type": "code",
   "execution_count": 1,
   "metadata": {},
   "outputs": [],
   "source": [
    "import numpy as np\n",
    "\n",
    "def chi_bootstrap_median_CI(df, n, bootstrap_count):\n",
    "    samples = np.random.chisquare(df, n)\n",
    "\n",
    "    medians = []\n",
    "    for _ in range(bootstrap_count):\n",
    "        bootstrap_sample = np.random.choice(samples, size=n, replace=True)\n",
    "        bootstrap_median = np.median(bootstrap_sample)\n",
    "        medians.append(bootstrap_median)\n",
    "\n",
    "    upper_bound = np.quantile(medians, 0.975)\n",
    "    lower_bound = np.quantile(medians, 0.025)    \n",
    "    print(f\"Bootstrap CI: ({lower_bound:.2f}, {upper_bound:.2f})\")\n",
    "\n",
    "def chi_median_distribution(df, n, sample_count):\n",
    "    medians = []\n",
    "    for _ in range(sample_count):\n",
    "        samples = np.random.chisquare(df, n)\n",
    "        sample_median = np.median(samples)\n",
    "        medians.append(sample_median)\n",
    "        \n",
    "    upper_bound = np.quantile(medians, 0.975)\n",
    "    lower_bound = np.quantile(medians, 0.025)    \n",
    "    print(f\"Sample CI: ({lower_bound:.2f}, {upper_bound:.2f})\")"
   ]
  },
  {
   "cell_type": "code",
   "execution_count": 2,
   "metadata": {},
   "outputs": [
    {
     "name": "stdout",
     "output_type": "stream",
     "text": [
      "Bootstrap CI: (20.91, 23.21)\n",
      "Sample CI: (21.21, 23.51)\n"
     ]
    }
   ],
   "source": [
    "np.random.seed(85)\n",
    "\n",
    "df = 23\n",
    "n = 200\n",
    "repeat_count = 10000\n",
    "\n",
    "chi_bootstrap_median_CI(df, n, repeat_count)\n",
    "chi_median_distribution(df, n, repeat_count)"
   ]
  }
 ],
 "metadata": {
  "kernelspec": {
   "display_name": "Python 3",
   "language": "python",
   "name": "python3"
  },
  "language_info": {
   "codemirror_mode": {
    "name": "ipython",
    "version": 3
   },
   "file_extension": ".py",
   "mimetype": "text/x-python",
   "name": "python",
   "nbconvert_exporter": "python",
   "pygments_lexer": "ipython3",
   "version": "3.7.4"
  }
 },
 "nbformat": 4,
 "nbformat_minor": 2
}
