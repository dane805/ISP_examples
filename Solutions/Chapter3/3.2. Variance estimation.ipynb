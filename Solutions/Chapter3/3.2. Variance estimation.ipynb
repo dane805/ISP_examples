{
 "cells": [
  {
   "cell_type": "code",
   "execution_count": 1,
   "metadata": {},
   "outputs": [],
   "source": [
    "import numpy as np\n",
    "\n",
    "def var_estimator(nums, ddof):\n",
    "    '''\n",
    "    ddof는 Delta Degrees of Freedom의 약자로, 감소된 자유도를 의미합니다.\n",
    "    예컨대 분산을 구할 때 ddof=1이면 n-1을 자유도(분모)로 사용합니다.\n",
    "    주어진 ddof를 이용하여 nums의 분산을 구하시오\n",
    "    '''\n",
    "    return np.sum( ( nums - nums.mean() )**2 ) / (len(nums) - ddof)\n",
    "\n",
    "def estimate_iterator(mu, sigma, n, ddof, n_iter):\n",
    "    '''\n",
    "    n_iterator 횟수만큼\n",
    "    주어진 mu와 sigma를 따르는 정규분포에서 n개를 샘플링한 뒤\n",
    "    추출된 샘플의 분산을, 주어진 ddof를 고려하여 계산한다.\n",
    "    '''\n",
    "    estimates = []\n",
    "    for _ in range(n_iter):\n",
    "        nums = np.random.normal(mu, sigma, n)\n",
    "        estimate = var_estimator(nums, ddof)\n",
    "        estimates.append(estimate)\n",
    "    return estimates\n",
    "\n",
    "def bias_reporter(mu, sigma, n, ddof, n_iter):\n",
    "    '''\n",
    "    주어진 ddof로 분산을 추정했을 때의 bias가 얼마나 되는지 구한다.\n",
    "    '''\n",
    "    estimates = estimate_iterator(mu, sigma, n, ddof, n_iter)\n",
    "    biasses = [estimate - sigma**2 for estimate in estimates]\n",
    "    mean_bias = np.mean(biasses)\n",
    "    print(f'ddof = {ddof}일 때, 분산의 추정값은 평균적으로 {np.mean(estimates):.2f}')\n",
    "    print(f'따라서 편향은 평균적으로 {mean_bias:.4f}\\n')\n",
    "    return mean_bias\n",
    "\n",
    "def var_estimate_reporter(mu, sigma, n, n_iter):\n",
    "    biasses = {}\n",
    "    print(f'모 표준편차: {sigma**2}\\n')\n",
    "    for ddof in (0, 1):\n",
    "        biasses[ddof] = bias_reporter(mu, sigma, n, ddof, n_iter)\n",
    "    print(f'자유도를 n으로 했을 때의 편향은 자유도를 n-1로 했을 때보다 {abs(biasses[0] / biasses[1]):.2f}배 크다')"
   ]
  },
  {
   "cell_type": "code",
   "execution_count": 2,
   "metadata": {},
   "outputs": [
    {
     "name": "stdout",
     "output_type": "stream",
     "text": [
      "모 표준편차: 25\n",
      "\n",
      "ddof = 0일 때, 분산의 추정값은 평균적으로 24.50\n",
      "따라서 편향은 평균적으로 -0.4980\n",
      "\n",
      "ddof = 1일 때, 분산의 추정값은 평균적으로 24.98\n",
      "따라서 편향은 평균적으로 -0.0155\n",
      "\n",
      "자유도를 n으로 했을 때의 편향은 자유도를 n-1로 했을 때보다 32.07배 크다\n"
     ]
    }
   ],
   "source": [
    "np.random.seed(85)\n",
    "var_estimate_reporter(10, 5, 50, 100000)"
   ]
  },
  {
   "cell_type": "code",
   "execution_count": null,
   "metadata": {},
   "outputs": [],
   "source": []
  }
 ],
 "metadata": {
  "kernelspec": {
   "display_name": "Python 3",
   "language": "python",
   "name": "python3"
  },
  "language_info": {
   "codemirror_mode": {
    "name": "ipython",
    "version": 3
   },
   "file_extension": ".py",
   "mimetype": "text/x-python",
   "name": "python",
   "nbconvert_exporter": "python",
   "pygments_lexer": "ipython3",
   "version": "3.7.4"
  }
 },
 "nbformat": 4,
 "nbformat_minor": 2
}
