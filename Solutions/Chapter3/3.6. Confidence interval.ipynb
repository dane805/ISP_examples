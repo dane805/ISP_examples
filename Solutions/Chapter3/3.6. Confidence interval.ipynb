{
 "cells": [
  {
   "cell_type": "code",
   "execution_count": 1,
   "metadata": {},
   "outputs": [],
   "source": [
    "import numpy as np\n",
    "from scipy.stats import norm"
   ]
  },
  {
   "cell_type": "markdown",
   "metadata": {},
   "source": [
    "### Solution 1"
   ]
  },
  {
   "cell_type": "code",
   "execution_count": 2,
   "metadata": {},
   "outputs": [
    {
     "name": "stdout",
     "output_type": "stream",
     "text": [
      "95.0% Confidence interval: (34.04, 37.96)\n",
      "99.0% Confidence interval: (33.42, 38.58)\n"
     ]
    }
   ],
   "source": [
    "# initialize\n",
    "n = 9\n",
    "X_bar = 36\n",
    "var = 3**2\n",
    "\n",
    "# a)\n",
    "alpha = 0.05\n",
    "z = norm.ppf(1 - alpha/2)\n",
    "se = z*np.sqrt(var/n)\n",
    "print(f\"{(1-alpha)*100}% Confidence interval: ({X_bar-se:.2f}, {X_bar+se:.2f})\")\n",
    "\n",
    "# a)\n",
    "alpha = 0.01\n",
    "z = norm.ppf(1 - alpha/2)\n",
    "se = z*np.sqrt(var/n)\n",
    "print(f\"{(1-alpha)*100}% Confidence interval: ({X_bar-se:.2f}, {X_bar+se:.2f})\")"
   ]
  }
 ],
 "metadata": {
  "kernelspec": {
   "display_name": "Python 3",
   "language": "python",
   "name": "python3"
  },
  "language_info": {
   "codemirror_mode": {
    "name": "ipython",
    "version": 3
   },
   "file_extension": ".py",
   "mimetype": "text/x-python",
   "name": "python",
   "nbconvert_exporter": "python",
   "pygments_lexer": "ipython3",
   "version": "3.7.4"
  }
 },
 "nbformat": 4,
 "nbformat_minor": 2
}
