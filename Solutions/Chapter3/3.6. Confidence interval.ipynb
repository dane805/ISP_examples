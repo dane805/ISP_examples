{
 "cells": [
  {
   "cell_type": "code",
   "execution_count": 1,
   "metadata": {},
   "outputs": [],
   "source": [
    "import matplotlib.pyplot as plt\n",
    "import numpy as np\n",
    "from scipy.stats import norm\n",
    "\n",
    "def CI_calculator(mu, sigma, alpha, n, ci_print=False):\n",
    "    samples = np.random.normal(mu, sigma, n)\n",
    "    x_bar = np.mean(samples)\n",
    "    error_bound = (norm.ppf(1-alpha/2)*sigma/np.sqrt(n))\n",
    "    upper_bound = x_bar + error_bound\n",
    "    lower_bound = x_bar - error_bound\n",
    "    CI_length = upper_bound - lower_bound\n",
    "    if ci_print:\n",
    "        print(f\"평균 {mu}, 표준 편차 {sigma}, 신뢰 수준 {1-alpha}, 표본 개수 {n}일 때\")\n",
    "        print(f\"모평균의 점추정값: {x_bar:.2f}, 신뢰구간: ({lower_bound:.2f}, {upper_bound:.2f})\")\n",
    "    else:\n",
    "        return CI_length\n",
    "\n",
    "def CI_length_plotter(ns):\n",
    "    CI_lengths = []\n",
    "    for n in ns:\n",
    "        CI_lengths.append(CI_calculator(10, 5, 0.05, n))\n",
    "    \n",
    "    plt.plot(ns, CI_lengths)\n",
    "    plt.xlabel('The number of samples')\n",
    "    plt.ylabel('CI length')\n",
    "    plt.savefig(f\"./images/3.6.png\")"
   ]
  },
  {
   "cell_type": "code",
   "execution_count": 2,
   "metadata": {},
   "outputs": [
    {
     "name": "stdout",
     "output_type": "stream",
     "text": [
      "평균 10, 표준 편차 5, 신뢰 수준 0.95, 표본 개수 100일 때\n",
      "모평균의 점추정값: 9.72, 신뢰구간: (8.74, 10.70)\n",
      "평균 10, 표준 편차 5, 신뢰 수준 0.99, 표본 개수 100일 때\n",
      "모평균의 점추정값: 10.32, 신뢰구간: (9.04, 11.61)\n",
      "평균 10, 표준 편차 5, 신뢰 수준 0.95, 표본 개수 1000일 때\n",
      "모평균의 점추정값: 10.16, 신뢰구간: (9.85, 10.47)\n"
     ]
    },
    {
     "data": {
      "image/png": "[encoded data removed]",
      "text/plain": [
       "<Figure size 432x288 with 1 Axes>"
      ]
     },
     "metadata": {
      "needs_background": "light"
     },
     "output_type": "display_data"
    }
   ],
   "source": [
    "CI_calculator(10, 5, 0.05, 100, True)\n",
    "\n",
    "CI_calculator(10, 5, 0.01, 100, True)\n",
    "\n",
    "CI_calculator(10, 5, 0.05, 1000, True)\n",
    "\n",
    "ns = (10, 20, 50, 100, 200, 500, 1000)\n",
    "CI_length_plotter(ns)"
   ]
  }
 ],
 "metadata": {
  "kernelspec": {
   "display_name": "Python 3",
   "language": "python",
   "name": "python3"
  },
  "language_info": {
   "codemirror_mode": {
    "name": "ipython",
    "version": 3
   },
   "file_extension": ".py",
   "mimetype": "text/x-python",
   "name": "python",
   "nbconvert_exporter": "python",
   "pygments_lexer": "ipython3",
   "version": "3.8.5"
  }
 },
 "nbformat": 4,
 "nbformat_minor": 2
}
