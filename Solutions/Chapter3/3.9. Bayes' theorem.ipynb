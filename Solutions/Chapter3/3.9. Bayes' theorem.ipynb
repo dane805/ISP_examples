{
 "cells": [
  {
   "cell_type": "code",
   "execution_count": 5,
   "metadata": {},
   "outputs": [],
   "source": [
    "def baeys_prob(prevalence_rate, abnormal_test_positive, normal_test_positive):\n",
    "    # 질병이 있고 양/음성이 나올 확률\n",
    "    abnormal_positive_ratio = (prevalence_rate * abnormal_test_positive)\n",
    "    abnormal_negative_ratio = (prevalence_rate * (1 - abnormal_test_positive))\n",
    "    # 질병이 없고 양성이 나올 확률\n",
    "    normal_positive_ratio = ((1 - prevalence_rate) * normal_test_positive)\n",
    "    \n",
    "    # 양성의 비율\n",
    "    positive_ratio = abnormal_positive_ratio + normal_positive_ratio\n",
    "    positive_abnormal_ratio = abnormal_positive_ratio / positive_ratio\n",
    "\n",
    "    print(f\"유병률: {100*prevalence_rate:.1f}%\")\n",
    "    print(f\"질병이 있을 때 양성이 나올 확률: {100*abnormal_test_positive:.1f}%\")\n",
    "    print(f\"질병이 없을 때 양성이 나올 확률: {100*normal_test_positive:.1f}%\")\n",
    "    print(f\"양성이 나왔을 때 실제 질병이 있을 확률: {100*positive_abnormal_ratio:.2f}%\")\n",
    "    print(f\"질병이 있는데 음성이 나올 확률: {100*abnormal_negative_ratio:.2f}%\")"
   ]
  },
  {
   "cell_type": "code",
   "execution_count": 6,
   "metadata": {},
   "outputs": [
    {
     "name": "stdout",
     "output_type": "stream",
     "text": [
      "유병률: 70.0%\n",
      "질병이 있을 때 양성이 나올 확률: 99.0%\n",
      "질병이 없을 때 양성이 나올 확률: 1.0%\n",
      "양성이 나왔을 때 실제 질병이 있을 확률: 99.57%\n",
      "질병이 있는데 음성이 나올 확률: 0.70%\n",
      "유병률: 0.5%\n",
      "질병이 있을 때 양성이 나올 확률: 98.0%\n",
      "질병이 없을 때 양성이 나올 확률: 2.0%\n",
      "양성이 나왔을 때 실제 질병이 있을 확률: 19.76%\n",
      "질병이 있는데 음성이 나올 확률: 0.01%\n",
      "유병률: 2.0%\n",
      "질병이 있을 때 양성이 나올 확률: 99.0%\n",
      "질병이 없을 때 양성이 나올 확률: 1.0%\n",
      "양성이 나왔을 때 실제 질병이 있을 확률: 66.89%\n",
      "질병이 있는데 음성이 나올 확률: 0.02%\n"
     ]
    }
   ],
   "source": [
    "baeys_prob(0.7, 0.99, 0.01)\n",
    "\n",
    "baeys_prob(0.005, 0.98, 0.02)\n",
    "\n",
    "baeys_prob(0.02, 0.99, 0.01)"
   ]
  }
 ],
 "metadata": {
  "kernelspec": {
   "display_name": "Python 3",
   "language": "python",
   "name": "python3"
  },
  "language_info": {
   "codemirror_mode": {
    "name": "ipython",
    "version": 3
   },
   "file_extension": ".py",
   "mimetype": "text/x-python",
   "name": "python",
   "nbconvert_exporter": "python",
   "pygments_lexer": "ipython3",
   "version": "3.8.5"
  }
 },
 "nbformat": 4,
 "nbformat_minor": 2
}
