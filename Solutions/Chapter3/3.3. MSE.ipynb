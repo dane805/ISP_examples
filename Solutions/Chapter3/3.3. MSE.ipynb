{
 "cells": [
  {
   "cell_type": "code",
   "execution_count": 1,
   "metadata": {},
   "outputs": [],
   "source": [
    "import numpy as np\n",
    "import matplotlib.pyplot as plt"
   ]
  },
  {
   "cell_type": "markdown",
   "metadata": {},
   "source": [
    "### Solution 1"
   ]
  },
  {
   "cell_type": "code",
   "execution_count": 2,
   "metadata": {},
   "outputs": [],
   "source": [
    "n = 100\n",
    "p = 0.7\n",
    "sample_size = 100000"
   ]
  },
  {
   "cell_type": "code",
   "execution_count": 3,
   "metadata": {},
   "outputs": [
    {
     "name": "stdout",
     "output_type": "stream",
     "text": [
      "Mean of p*: 0.7027\n",
      "Variance of p*: 0.0021\n",
      "Mean of p^: 0.6997\n",
      "Variance of p^: 0.0021\n"
     ]
    }
   ],
   "source": [
    "# a)\n",
    "samples = np.random.binomial(n, p, sample_size)\n",
    "\n",
    "p_star = (samples + 1) / (n+1)\n",
    "p_hat = samples / n\n",
    "\n",
    "star_mean = np.mean(p_star)\n",
    "star_var = np.var(p_star)\n",
    "\n",
    "hat_mean = np.mean(p_hat)\n",
    "hat_var = np.var(p_hat)\n",
    "\n",
    "print(f\"Mean of p*: {star_mean:.4f}\")\n",
    "print(f\"Variance of p*: {star_var:.4f}\")\n",
    "\n",
    "print(f\"Mean of p^: {hat_mean:.4f}\")\n",
    "print(f\"Variance of p^: {hat_var:.4f}\")"
   ]
  },
  {
   "cell_type": "code",
   "execution_count": 4,
   "metadata": {},
   "outputs": [
    {
     "name": "stdout",
     "output_type": "stream",
     "text": [
      "MSE of p*: -0.0007\n",
      "MSE of p^: 0.0024\n"
     ]
    }
   ],
   "source": [
    "# b)\n",
    "star_bias = p - star_mean\n",
    "star_mse = star_bias + star_var\n",
    "\n",
    "hat_bias = p - hat_mean\n",
    "hat_mse = hat_bias + hat_var\n",
    "\n",
    "print(f\"MSE of p*: {star_mse:.4f}\")\n",
    "print(f\"MSE of p^: {hat_mse:.4f}\")"
   ]
  }
 ],
 "metadata": {
  "kernelspec": {
   "display_name": "Python 3",
   "language": "python",
   "name": "python3"
  },
  "language_info": {
   "codemirror_mode": {
    "name": "ipython",
    "version": 3
   },
   "file_extension": ".py",
   "mimetype": "text/x-python",
   "name": "python",
   "nbconvert_exporter": "python",
   "pygments_lexer": "ipython3",
   "version": "3.7.4"
  }
 },
 "nbformat": 4,
 "nbformat_minor": 2
}
