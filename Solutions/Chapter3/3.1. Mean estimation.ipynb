{
 "cells": [
  {
   "cell_type": "code",
   "execution_count": 1,
   "metadata": {},
   "outputs": [],
   "source": [
    "import numpy as np\n",
    "from scipy import stats"
   ]
  },
  {
   "cell_type": "code",
   "execution_count": 2,
   "metadata": {},
   "outputs": [],
   "source": [
    "def poisson_3m_calculator(lamb, n):\n",
    "    \n",
    "    samples = np.random.poisson(lamb, n)\n",
    "    \n",
    "    sample_mean = np.mean(samples)\n",
    "    sample_median = np.median(samples)\n",
    "    sample_mode = stats.mode(samples)\n",
    "    \n",
    "    print(f\"표본 평균: {sample_mean:.2f}\")\n",
    "    print(f\"표본 중앙값: {sample_median}\")\n",
    "    print(f\"표본 최빈값: {sample_mode.mode[0]}\")"
   ]
  },
  {
   "cell_type": "code",
   "execution_count": 3,
   "metadata": {},
   "outputs": [
    {
     "name": "stdout",
     "output_type": "stream",
     "text": [
      "표본 평균: 7.01\n",
      "표본 중앙값: 7.0\n",
      "표본 최빈값: 6\n"
     ]
    }
   ],
   "source": [
    "np.random.seed(85)\n",
    "poisson_3m_calculator(7, 100000)\n"
   ]
  }
 ],
 "metadata": {
  "kernelspec": {
   "display_name": "Python 3",
   "language": "python",
   "name": "python3"
  },
  "language_info": {
   "codemirror_mode": {
    "name": "ipython",
    "version": 3
   },
   "file_extension": ".py",
   "mimetype": "text/x-python",
   "name": "python",
   "nbconvert_exporter": "python",
   "pygments_lexer": "ipython3",
   "version": "3.7.4"
  }
 },
 "nbformat": 4,
 "nbformat_minor": 2
}
