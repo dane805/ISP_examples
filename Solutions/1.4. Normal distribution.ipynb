{
 "cells": [
  {
   "cell_type": "code",
   "execution_count": 1,
   "metadata": {},
   "outputs": [],
   "source": [
    "import numpy as np\n",
    "from scipy.stats import norm"
   ]
  },
  {
   "cell_type": "markdown",
   "metadata": {},
   "source": [
    "### Solution 1"
   ]
  },
  {
   "cell_type": "code",
   "execution_count": 2,
   "metadata": {},
   "outputs": [
    {
     "name": "stdout",
     "output_type": "stream",
     "text": [
      "a) 정규 분포에서 측정한 점에 대한 확률값은 항상 0이다\n",
      "b) 이 식당이 문을 닫기 이전에 300만원 이상을 벌지 못할 확률은 0.9938\n"
     ]
    }
   ],
   "source": [
    "# a)\n",
    "print(\"a) 정규 분포에서 측정한 점에 대한 확률값은 항상 0이다\")\n",
    "\n",
    "# b)\n",
    "z_score = (100-50)/20\n",
    "prob = norm.cdf(z_score)\n",
    "print(f\"b) 이 식당이 문을 닫기 이전에 300만원 이상을 벌지 못할 확률은 {prob:.4f}\")"
   ]
  },
  {
   "cell_type": "markdown",
   "metadata": {},
   "source": [
    "* * *"
   ]
  },
  {
   "cell_type": "markdown",
   "metadata": {},
   "source": [
    "### Solution 2"
   ]
  },
  {
   "cell_type": "code",
   "execution_count": 3,
   "metadata": {},
   "outputs": [
    {
     "name": "stdout",
     "output_type": "stream",
     "text": [
      "μ는 대략 9.20이다\n"
     ]
    }
   ],
   "source": [
    "loss_dic = {x:abs((1 - norm.cdf(x)) - 0.8023) for x in np.arange(-4, 4, 0.01)}\n",
    "\n",
    "min_x = round(min(loss_dic, key=lambda k: loss_dic[k]), 3)\n",
    "\n",
    "assert (1-norm.cdf(min_x)) - 0.8023 < 0.01\n",
    "\n",
    "mu = 7.5 - min_x*2\n",
    "print(f\"μ는 대략 {mu:.2f}\")"
   ]
  }
 ],
 "metadata": {
  "kernelspec": {
   "display_name": "Python 3",
   "language": "python",
   "name": "python3"
  },
  "language_info": {
   "codemirror_mode": {
    "name": "ipython",
    "version": 3
   },
   "file_extension": ".py",
   "mimetype": "text/x-python",
   "name": "python",
   "nbconvert_exporter": "python",
   "pygments_lexer": "ipython3",
   "version": "3.7.4"
  }
 },
 "nbformat": 4,
 "nbformat_minor": 2
}
