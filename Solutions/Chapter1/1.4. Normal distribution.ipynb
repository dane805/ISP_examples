{
 "cells": [
  {
   "cell_type": "markdown",
   "metadata": {
    "colab_type": "text",
    "id": "_mD01xBs6kaN"
   },
   "source": [
    "# Probability Distribution\n",
    "\n",
    "모수란 확률 분포의 형태를 결정짓는 수이다.  \n",
    "모수가 먼저 결정된 뒤, 주어진 outcome에 대한 확률이 정의될 수 있다.  \n",
    "앞서 본 이항 분포의 경우, 시행 횟수 N과 각 시행에서의 성공 확률 p가 모수였다.  \n",
    "둘 모두를 조율할 수 있는 함수를 만들어 보자.  \n",
    "\n",
    "$${N\\choose k}(p)^k (p)^{(n-k)} $$\n",
    "\n",
    "\n",
    "## input\n",
    "\n",
    "pdf_binom(N=10, p=0.3, x=3)\n",
    "\n",
    "pdf_binom(N=10, p=0.7, x=7)\n",
    "\n",
    "pdf_binom(N=100, p=0.1, x=50)\n",
    "\n",
    "\n",
    "## function\n",
    "\n",
    "```\n",
    "from scipy.special import comb\n",
    "# combination은 위 함수를 이용한다\n",
    "\n",
    "def pdf_binom(N, p, x):\n",
    "    '''\n",
    "    outcome은 Head와 Tail 둘 중 하나일 때는 0.5, 그 외에는 0이 확률이 된다.\n",
    "    확률 변수의 형식으로 주어진 outcome에 대한 확률을 프린트한 뒤 확률을 반환한다.\n",
    "    '''\n",
    "    prob = #\n",
    "    print(\"P(X = x; n=%s, p=%.4f) = %.4f\"%(N, p, prop))\n",
    "    return p\n",
    "```\n",
    "\n",
    "\n",
    "## output\n",
    "\n",
    "P(X = x; n=10, p=0.3000) = 0.2668\n",
    "0.3\n",
    "\n",
    "P(X = x; n=10, p=0.7000) = 0.2668\n",
    "0.7\n",
    "\n",
    "P(X = x; n=100, p=0.1000) = 0.0000\n",
    "0.1\n",
    "\n",
    "## 검색키워드\n",
    "\n",
    "`random variable`, `probability distribution`, `uniform distribution`\n",
    "\n",
    "## 제출\n",
    "\n",
    "아래의 텍스트 에디터를 사용하여 코드를 텍스트로 작성한 뒤 제출해주세요."
   ]
  },
  {
   "cell_type": "code",
   "execution_count": 21,
   "metadata": {},
   "outputs": [],
   "source": [
    "from scipy.stats import norm\n",
    "def pdf_norm(x, mu=0, sigma=1):\n",
    "    '''\n",
    "    주어진 x, mu, sigma에 관한 정규 분포의 확률 값을 출력한다.\n",
    "    '''\n",
    "    prob = norm.pdf(x, mu, sigma)\n",
    "    print(f\"P(X={x}; mu={mu}, sigma={sigma}) = {prob:.2f}\")"
   ]
  },
  {
   "cell_type": "code",
   "execution_count": 22,
   "metadata": {},
   "outputs": [
    {
     "name": "stdout",
     "output_type": "stream",
     "text": [
      "P(X=0; mu=0, sigma=1) = 0.40\n"
     ]
    }
   ],
   "source": [
    "pdf_norm(0)"
   ]
  },
  {
   "cell_type": "code",
   "execution_count": 23,
   "metadata": {},
   "outputs": [
    {
     "name": "stdout",
     "output_type": "stream",
     "text": [
      "P(X=1.96; mu=0, sigma=1) = 0.06\n"
     ]
    }
   ],
   "source": [
    "pdf_norm(1.96, 0, 1)"
   ]
  },
  {
   "cell_type": "code",
   "execution_count": 24,
   "metadata": {},
   "outputs": [
    {
     "name": "stdout",
     "output_type": "stream",
     "text": [
      "P(X=-1; mu=2, sigma=10) = 0.04\n"
     ]
    }
   ],
   "source": [
    "pdf_norm(-1, 2, 10)"
   ]
  }
 ],
 "metadata": {
  "colab": {
   "collapsed_sections": [],
   "name": "item01.ipynb",
   "provenance": [],
   "toc_visible": true
  },
  "kernelspec": {
   "display_name": "Python 3",
   "language": "python",
   "name": "python3"
  },
  "language_info": {
   "codemirror_mode": {
    "name": "ipython",
    "version": 3
   },
   "file_extension": ".py",
   "mimetype": "text/x-python",
   "name": "python",
   "nbconvert_exporter": "python",
   "pygments_lexer": "ipython3",
   "version": "3.7.4"
  }
 },
 "nbformat": 4,
 "nbformat_minor": 1
}
