{
 "cells": [
  {
   "cell_type": "markdown",
   "metadata": {
    "colab_type": "text",
    "id": "_mD01xBs6kaN"
   },
   "source": [
    "# Probability Distribution\n",
    "\n",
    "$$\n",
    "P(X=x; N, p) = {N\\choose x}(p)^x (1-p)^{(N-x)} \n",
    "$$\n",
    "함수식은 다음과 같이 이해할 수 있다.  \n",
    "P(X=x)라는 것은 확률 변수 X가 값 x를 가질 때의 확률이라는 뜻이다.  \n",
    ";뒤의 N, p는 N과 p가 **모수**로 주어진다는 의미이다.  \n",
    "이항 분포에서 던지는 동전의 수, 그리고 각 동전에서 앞면이 나올 확률이 모수가 된다.\n",
    "\n",
    "x개의 동전이 앞면이기 때문에 p를 x제곱하고,  \n",
    "N-x개의 나머지 동전이 뒷면이기 때문에 (1-p)를 N-x제곱한다.  \n",
    "그리고 해당하는 케이스의 조합의 수가 첫항이 된다. \n",
    "\n",
    "확률이 0.2인 동전을 3개 던지는데, 앞면이 1개인 경우를 예시로 살펴보자.(N=3, p=0.2, x=1)  \n",
    "먼저 앞면인 동전이 1개이고 뒷면인 동전이 2개이기 때문에 뒤의 두 항은 (0.2)^1 * (1-0.2)^2가 된다.  \n",
    "그리고 첫번째 항은 $ {3\\choose 1} = 3 $이 같이 된다.    \n",
    "이는 앞면이 하나 나오는 경우의 수가 HTT, THT, TTH 세 가지이기 때문이다. \n",
    "\n",
    "\n",
    "\n",
    "## input\n",
    "\n",
    "pdf_binom(N=10, x=3)\n",
    "\n",
    "pdf_binom(N=10, x=7)\n",
    "\n",
    "pdf_binom(N=100, x=50)\n",
    "\n",
    "\n",
    "## function\n",
    "\n",
    "```\n",
    "from scipy.special import comb\n",
    "# combination은 위 함수를 이용한다\n",
    "\n",
    "def pdf_binom(N, x):\n",
    "    '''\n",
    "    \n",
    "    \n",
    "    '''\n",
    "    p = #\n",
    "    print(\"P(X = x; n=%s) = %.4f\"%(N, p))\n",
    "    return p\n",
    "```\n",
    "\n",
    "\n",
    "## output\n",
    "\n",
    "P(X=10;n=3) = \n",
    "0.5\n",
    "\n",
    "P(X=10;n=7) = \n",
    "0.5\n",
    "\n",
    "P(X=100;n=50) = \n",
    "0.5\n",
    "\n",
    "## 검색키워드\n",
    "\n",
    "`random variable`, `probability distribution`, `binomial distribution`, `combination in python`\n",
    "\n",
    "## 제출\n",
    "\n",
    "아래의 텍스트 에디터를 사용하여 코드를 텍스트로 작성한 뒤 제출해주세요."
   ]
  },
  {
   "cell_type": "code",
   "execution_count": 6,
   "metadata": {},
   "outputs": [],
   "source": [
    "def pdf_unif(x, a=0, b=1):\n",
    "    '''\n",
    "    주어진 a, b, x에 관한 균등 분포의 확률 값을 출력한다\n",
    "    '''\n",
    "    if a <= x <= b:\n",
    "        prob = (x - a) / (b - a)\n",
    "    else:\n",
    "        prob = 0\n",
    "    print(f\"P(X={x}; a={a}, b={b}) = {prob:.2f}\")"
   ]
  },
  {
   "cell_type": "code",
   "execution_count": 7,
   "metadata": {},
   "outputs": [
    {
     "name": "stdout",
     "output_type": "stream",
     "text": [
      "P(X=0.5; a=0, b=1) = 0.50\n"
     ]
    }
   ],
   "source": [
    "pdf_unif(x=0.5)"
   ]
  },
  {
   "cell_type": "code",
   "execution_count": 8,
   "metadata": {},
   "outputs": [
    {
     "name": "stdout",
     "output_type": "stream",
     "text": [
      "P(X=0; a=-1, b=2) = 0.33\n"
     ]
    }
   ],
   "source": [
    "pdf_unif(x=0, a=-1, b=2)"
   ]
  },
  {
   "cell_type": "code",
   "execution_count": 9,
   "metadata": {},
   "outputs": [
    {
     "name": "stdout",
     "output_type": "stream",
     "text": [
      "P(X=2.5; a=0, b=3.5) = 0.71\n"
     ]
    }
   ],
   "source": [
    "pdf_unif(x=2.5, a=0, b=3.5)"
   ]
  }
 ],
 "metadata": {
  "colab": {
   "collapsed_sections": [],
   "name": "item01.ipynb",
   "provenance": [],
   "toc_visible": true
  },
  "kernelspec": {
   "display_name": "Python 3",
   "language": "python",
   "name": "python3"
  },
  "language_info": {
   "codemirror_mode": {
    "name": "ipython",
    "version": 3
   },
   "file_extension": ".py",
   "mimetype": "text/x-python",
   "name": "python",
   "nbconvert_exporter": "python",
   "pygments_lexer": "ipython3",
   "version": "3.7.4"
  }
 },
 "nbformat": 4,
 "nbformat_minor": 1
}
