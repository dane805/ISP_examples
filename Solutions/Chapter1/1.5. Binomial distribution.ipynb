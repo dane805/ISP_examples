{
 "cells": [
  {
   "cell_type": "code",
   "execution_count": 1,
   "metadata": {},
   "outputs": [],
   "source": [
    "from math import exp"
   ]
  },
  {
   "cell_type": "code",
   "execution_count": 13,
   "metadata": {},
   "outputs": [],
   "source": [
    "from scipy.stats import binom\n",
    "def pdf_binom(x, n, p):\n",
    "    '''\n",
    "    주어진 x, n, p 관한 이항 분포의 확률 값을 출력한다.\n",
    "    '''\n",
    "    prob = binom.pmf(x, n, p)\n",
    "    print(f\"P(X={x}; n={n}, p={p}) = {prob:.2f}\")"
   ]
  },
  {
   "cell_type": "code",
   "execution_count": 14,
   "metadata": {},
   "outputs": [
    {
     "name": "stdout",
     "output_type": "stream",
     "text": [
      "P(X=3; n=10, p=0.3) = 0.27\n"
     ]
    }
   ],
   "source": [
    "pdf_binom(x=3, n=10, p=0.3)"
   ]
  },
  {
   "cell_type": "code",
   "execution_count": 15,
   "metadata": {},
   "outputs": [
    {
     "name": "stdout",
     "output_type": "stream",
     "text": [
      "P(X=7; n=10, p=0.7) = 0.27\n"
     ]
    }
   ],
   "source": [
    "pdf_binom(x=7, n=10, p=0.7)"
   ]
  },
  {
   "cell_type": "code",
   "execution_count": 16,
   "metadata": {},
   "outputs": [
    {
     "name": "stdout",
     "output_type": "stream",
     "text": [
      "P(X=50; n=100, p=0.1) = 0.00\n"
     ]
    }
   ],
   "source": [
    "pdf_binom(x=50, n=100, p=0.1)"
   ]
  }
 ],
 "metadata": {
  "colab": {
   "collapsed_sections": [],
   "name": "item01.ipynb",
   "provenance": [],
   "toc_visible": true
  },
  "kernelspec": {
   "display_name": "Python 3",
   "language": "python",
   "name": "python3"
  },
  "language_info": {
   "codemirror_mode": {
    "name": "ipython",
    "version": 3
   },
   "file_extension": ".py",
   "mimetype": "text/x-python",
   "name": "python",
   "nbconvert_exporter": "python",
   "pygments_lexer": "ipython3",
   "version": "3.7.4"
  }
 },
 "nbformat": 4,
 "nbformat_minor": 1
}
