{
 "cells": [
  {
   "cell_type": "markdown",
   "metadata": {
    "colab_type": "text",
    "id": "_mD01xBs6kaN"
   },
   "source": [
    "# Probability Distribution\n",
    "\n",
    "앞서 본 확률 분포는 사상Event와 무관하게 확률이 동일한 **uniform disstribution**이었다.  \n",
    "일반적으로 probability distribution의 결과값은 event과 parameter에 따라 달라지며, 그 사이의 관계를 수식을 통해 정의할 수 있다.  \n",
    "앞서 보았던 동전 던지기는 **베르누이 분포Bernoulli distribution**의 한 가지 예시이다.  \n",
    "베르누이 분포는 결과 값이 둘 중 하나만 가능한 분포로 함수식은 다음과 같다.  \n",
    "\n",
    "$$ P(X=x; p) = p^x (1-p)^{(1-x)}$$\n",
    "\n",
    "함수식은 다음과 같이 이해할 수 있다.  \n",
    "P(X=x)라는 것은 확률 변수 X가 값 x(예컨대 1)를 가질 때의 확률이라는 뜻이다.  \n",
    ";뒤의 N, p는 N과 p가 **모수**로 주어진다는 의미이다.  \n",
    "베르누이 분포에서 동전에서 앞면이 나올 확률이 모수가 된다.  \n",
    "일반적으로 베르누이 분포에서는 동전의 앞면, 실험의 성공 등을 1로 표현하여 숫자로 다룬다.  \n",
    "('head' 대신 1이라는 숫자를 넣어도 되는 마술을 자세히 알고 싶으면 수리 통계학을 공부하면 된다)  \n",
    "즉 결과가 두 가지(binary)인 것은 모두 베르누이로 다룰 수 있기 때문에 무척 흔하게 쓰이며 시그모이드sigmoid 함수 또한 베르누이로부터 유도될 수 있다.  \n",
    "\n",
    "실제 값을 넣어보자.  \n",
    "x=1이라면 P(X=1; p) = p가 되고, X=0이라면 P(X=1)=(1-p)가 된다.  \n",
    "이제 파이썬으로 베르누이 분포를 구현해보자.\n",
    "\n",
    "\n",
    "## input\n",
    "\n",
    "```\n",
    "\n",
    "pmf_bern(p=0.7, x=1)\n",
    "\n",
    "pmf_bern(p=0.2, x=1)\n",
    "\n",
    "pmf_bern(p=0.2, x=0)\n",
    "\n",
    "```\n",
    "\n",
    "## function\n",
    "\n",
    "```\n",
    "\n",
    "def pmf_binom(p, x):\n",
    "    '''\n",
    "    주어진 p와 x에 관한 베르누이 분포의 확률 값을 반환한다\n",
    "    '''\n",
    "    prob = #\n",
    "    print(\"P(X=%s; p=%s) = %.2f\"%(x, p, prob))\n",
    "    return prob\n",
    "    \n",
    "```\n",
    "\n",
    "\n",
    "## output\n",
    "\n",
    "```\n",
    "P(X=1; p=0.7) = 0.70\n",
    "# P(X=1; p=0.7) = 0.70\n",
    "\n",
    "pmf_bern(p=0.2, x=1)\n",
    "# P(X=1; p=0.2) = 0.20\n",
    "\n",
    "\n",
    "pmf_bern(p=0.2, x=0)\n",
    "# P(X=0; p=0.2) = 0.80\n",
    "```\n",
    "\n",
    "## 검색키워드\n",
    "\n",
    "`random variable`, `probability distribution`, `bernulli distribution`, `parameter`, `binary``\n",
    "\n",
    "## 제출\n",
    "\n",
    "아래의 텍스트 에디터를 사용하여 코드를 텍스트로 작성한 뒤 제출해주세요."
   ]
  },
  {
   "cell_type": "code",
   "execution_count": 1,
   "metadata": {},
   "outputs": [],
   "source": [
    "def pmf_bern(p, x):\n",
    "    '''\n",
    "    주어진 p와 x에 관한 베르누이 분포의 확률 값을 반환한다\n",
    "    x는 0과 1만이 가능하다.\n",
    "    '''\n",
    "    if x in (0, 1):\n",
    "        prob = (p**x) * (1-p)**(1-x)\n",
    "    else:\n",
    "        prob=0\n",
    "    print(f\"P(X={x}; p={p}) = {prob:.2f}\")\n",
    "    return prob"
   ]
  },
  {
   "cell_type": "code",
   "execution_count": 2,
   "metadata": {},
   "outputs": [
    {
     "name": "stdout",
     "output_type": "stream",
     "text": [
      "P(X=1; p=0.7) = 0.70\n"
     ]
    },
    {
     "data": {
      "text/plain": [
       "0.7"
      ]
     },
     "execution_count": 2,
     "metadata": {},
     "output_type": "execute_result"
    }
   ],
   "source": [
    "pmf_bern(p=0.7, x=1)"
   ]
  },
  {
   "cell_type": "code",
   "execution_count": 3,
   "metadata": {},
   "outputs": [
    {
     "name": "stdout",
     "output_type": "stream",
     "text": [
      "P(X=1; p=0.2) = 0.20\n"
     ]
    },
    {
     "data": {
      "text/plain": [
       "0.2"
      ]
     },
     "execution_count": 3,
     "metadata": {},
     "output_type": "execute_result"
    }
   ],
   "source": [
    "pmf_bern(p=0.2, x=1)"
   ]
  },
  {
   "cell_type": "code",
   "execution_count": 4,
   "metadata": {},
   "outputs": [
    {
     "name": "stdout",
     "output_type": "stream",
     "text": [
      "P(X=0; p=0.2) = 0.80\n"
     ]
    },
    {
     "data": {
      "text/plain": [
       "0.8"
      ]
     },
     "execution_count": 4,
     "metadata": {},
     "output_type": "execute_result"
    }
   ],
   "source": [
    "pmf_bern(p=0.2, x=0)"
   ]
  }
 ],
 "metadata": {
  "colab": {
   "collapsed_sections": [],
   "name": "item01.ipynb",
   "provenance": [],
   "toc_visible": true
  },
  "kernelspec": {
   "display_name": "Python 3",
   "language": "python",
   "name": "python3"
  },
  "language_info": {
   "codemirror_mode": {
    "name": "ipython",
    "version": 3
   },
   "file_extension": ".py",
   "mimetype": "text/x-python",
   "name": "python",
   "nbconvert_exporter": "python",
   "pygments_lexer": "ipython3",
   "version": "3.7.4"
  }
 },
 "nbformat": 4,
 "nbformat_minor": 1
}
