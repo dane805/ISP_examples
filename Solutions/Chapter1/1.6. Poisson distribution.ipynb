{
 "cells": [
  {
   "cell_type": "code",
   "execution_count": 1,
   "metadata": {},
   "outputs": [],
   "source": [
    "import numpy as np\n",
    "from scipy.stats import poisson"
   ]
  },
  {
   "cell_type": "markdown",
   "metadata": {},
   "source": [
    "### Solution 1"
   ]
  },
  {
   "cell_type": "code",
   "execution_count": 2,
   "metadata": {},
   "outputs": [
    {
     "name": "stdout",
     "output_type": "stream",
     "text": [
      "일주일 동안 생산된 TV가 60대 이상일 확률은 0.0722이다\n",
      "일주일 동안 생산된 TV가 4~60대일 확률은 0.8633이다\n"
     ]
    }
   ],
   "source": [
    "# a)\n",
    "prob = 1 - poisson.cdf(60, 50)\n",
    "print(f\"일주일 동안 생산된 TV가 60대 이상일 확률은 {prob:.4f}이다\")\n",
    "\n",
    "# b)\n",
    "prob = poisson.cdf(60, 50) - poisson.cdf(39, 50)\n",
    "print(f\"일주일 동안 생산된 TV가 4~60대일 확률은 {prob:.4f}이다\")"
   ]
  }
 ],
 "metadata": {
  "kernelspec": {
   "display_name": "Python 3",
   "language": "python",
   "name": "python3"
  },
  "language_info": {
   "codemirror_mode": {
    "name": "ipython",
    "version": 3
   },
   "file_extension": ".py",
   "mimetype": "text/x-python",
   "name": "python",
   "nbconvert_exporter": "python",
   "pygments_lexer": "ipython3",
   "version": "3.7.4"
  }
 },
 "nbformat": 4,
 "nbformat_minor": 2
}
