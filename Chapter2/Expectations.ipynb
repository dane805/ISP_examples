{
 "cells": [
  {
   "cell_type": "code",
   "execution_count": 1,
   "metadata": {},
   "outputs": [],
   "source": [
    "import numpy as np"
   ]
  },
  {
   "cell_type": "markdown",
   "metadata": {},
   "source": [
    "### Question"
   ]
  },
  {
   "cell_type": "markdown",
   "metadata": {},
   "source": [
    "X의 확률 분포가 다음과 같을 때, 중앙값과 평균, 최빈값을 찾아라  "
   ]
  },
  {
   "cell_type": "markdown",
   "metadata": {},
   "source": [
    "a) $P(X) = (\\frac 1 2)^x, ~~ for~~ x = 1,2,3... zero~~elsewhere$  "
   ]
  },
  {
   "cell_type": "code",
   "execution_count": 2,
   "metadata": {},
   "outputs": [
    {
     "name": "stdout",
     "output_type": "stream",
     "text": [
      "평균: 2.0000\n",
      "최빈값: 1\n",
      "중앙값: 1\n"
     ]
    }
   ],
   "source": [
    "def p(x):\n",
    "    # 자연수인 경우에만 확률 값을 반환\n",
    "    if x > 0 and x % 1 == 0:\n",
    "        return (0.5)**x\n",
    "    else:\n",
    "        return 0\n",
    "\n",
    "# mean\n",
    "x_range = range(100000)\n",
    "mean_x = sum(x*p(x) for x in x_range)\n",
    "print(f\"평균: {mean_x:.4f}\")\n",
    "\n",
    "# mode\n",
    "prob_dic = {x:p(x) for x in x_range}\n",
    "max_x = max(prob_dic, key=prob_dic.get)\n",
    "print(f\"최빈값: {max_x}\")\n",
    "\n",
    "# median, withour interpolation\n",
    "prop_sum = {-1:0}\n",
    "for x in x_range:\n",
    "    prop_sum[x] = prop_sum[x-1] + p(x)\n",
    "    if prop_sum[x] >= 0.5: break\n",
    "print(f\"중앙값: {x}\")"
   ]
  },
  {
   "cell_type": "markdown",
   "metadata": {},
   "source": [
    "b) $f(x) = 12x^2 (1-x), ~0<x<1,~~zero~elsewhere$"
   ]
  },
  {
   "cell_type": "code",
   "execution_count": 3,
   "metadata": {},
   "outputs": [],
   "source": [
    "def p(x):\n",
    "    # 0과 1 사이인 경우에만 확률 값을 반환\n",
    "    if 0 < x < 1:\n",
    "        return 12*(x**2)*(1-x)\n",
    "    else:\n",
    "        return 0"
   ]
  },
  {
   "cell_type": "code",
   "execution_count": 4,
   "metadata": {},
   "outputs": [],
   "source": [
    "# mean\n",
    "n = 10000\n",
    "x_range = [i/n for i in range(0, n)]"
   ]
  },
  {
   "cell_type": "code",
   "execution_count": 5,
   "metadata": {},
   "outputs": [
    {
     "name": "stdout",
     "output_type": "stream",
     "text": [
      "평균: 1.0000\n"
     ]
    }
   ],
   "source": [
    "mean_x = sum([p(x)/(n) for x in x_range]) # rhimman sum\n",
    "print(f\"평균: {mean_x:.4f}\")"
   ]
  },
  {
   "cell_type": "code",
   "execution_count": 6,
   "metadata": {},
   "outputs": [
    {
     "name": "stdout",
     "output_type": "stream",
     "text": [
      "중앙값: 1.0000\n"
     ]
    }
   ],
   "source": [
    "mode_x = sum([p(x)/(n) for x in x_range])\n",
    "print(f\"중앙값: {mode_x:.4f}\")"
   ]
  },
  {
   "cell_type": "markdown",
   "metadata": {},
   "source": [
    "* * *"
   ]
  },
  {
   "cell_type": "markdown",
   "metadata": {},
   "source": [
    "### Question"
   ]
  },
  {
   "cell_type": "markdown",
   "metadata": {},
   "source": [
    "미국식 룰렛 게임을 다음과 같은 규칙으로 실시한다고 하자. 기대 이익을 구하여라.  \n",
    "1. 빨강 또는 검정에 배팅한다. 각 배팅에서 승리할 확률은 50%이며, 승리할 시 배팅한 돈의 두 배를 돌려준다.  \n",
    "2. 첫 게임에 10,000원을 배팅하고 게임에서 지면 두 번째 게임에 20,000원을 배팅하고 또 진다면 다음에는 40,000원을 배팅한다.  \n",
    "3. 한 번이라도 이기면 배팅을 중단한다.  \n",
    "4. 최대 5번만 배팅한다. 즉, 5번째 게임 후에 게임 결과에 상관없이 배팅을 중단한다."
   ]
  },
  {
   "cell_type": "markdown",
   "metadata": {},
   "source": [
    "### Solution"
   ]
  },
  {
   "cell_type": "code",
   "execution_count": 7,
   "metadata": {},
   "outputs": [],
   "source": [
    "# simulation\n",
    "def batting_simulator():\n",
    "    money = 0\n",
    "    batting = 10000\n",
    "    for _ in range(5):\n",
    "        result = np.random.binomial(1, 0.5)\n",
    "        if result:\n",
    "            money += batting\n",
    "            break\n",
    "        else:\n",
    "            money -= batting\n",
    "            batting *= 2\n",
    "    return money\n",
    "results = [batting_simulator() for _ in range(100000)]"
   ]
  },
  {
   "cell_type": "code",
   "execution_count": 8,
   "metadata": {},
   "outputs": [
    {
     "name": "stdout",
     "output_type": "stream",
     "text": [
      "평균: 144.00\n",
      "표준 편차: 55288.15\n"
     ]
    }
   ],
   "source": [
    "print(f\"평균: {np.mean(results):.2f}\")\n",
    "print(f\"표준 편차: {np.std(results):.2f}\")"
   ]
  },
  {
   "cell_type": "code",
   "execution_count": 9,
   "metadata": {},
   "outputs": [],
   "source": [
    "# probability\n",
    "'''\n",
    "Cases\n",
    "1. Win the first game -> +10000\n",
    "- P = 0.5\n",
    "2. Lose the first game and win the next game -> -10000 + 20000 = +10000\n",
    "- P = 0.5 * 0.5 = 0.5^2\n",
    "3. Lose two games and win the third game ->  -10000 - 20000 + 40000 = +10000\n",
    "- P = 0.5 * 0.5 * 0.5 = 0.5^3\n",
    "4. Lose three games and win the forth game -> -10000 - 20000 - 40000 + 80000 = +10000\n",
    "- P = 0.5 * 0.5 * 0.5 * 0.5  = 0.5^4\n",
    "5. Lose forth games and win the last game -> -10000 - 20000 - 40000 - 80000 + 160000 = +10000\n",
    "- P = 0.5 * 0.5 * 0.5 * 0.5 * 0.5 = 0.5^5\n",
    "6. Lose all the games -> - 10000 - 20000 - 40000 - 80000 - 160000 = -310000\n",
    "- P = 0.5 * 0.5 * 0.5 * 0.5 * 0.5 = 0.5^5\n",
    "\n",
    "Therefore,\n",
    "P(X=10000) = 0.5^1 + 0.5^2 + 0.5^3 + 0.5^4 + 0.5^5\n",
    "P(X=-310000) = 0.5^5\n",
    "P(X) = 0 if X not in (10000, -310000)\n",
    "'''\n",
    "\n",
    "probs = {}\n",
    "probs[10000] = (0.5**1) + (0.5**2) + (0.5**3) + (0.5**4) + (0.5**5)\n",
    "probs[-310000] = (0.5**5)\n",
    "\n",
    "assert sum(probs.values()) == 1"
   ]
  },
  {
   "cell_type": "code",
   "execution_count": 10,
   "metadata": {},
   "outputs": [
    {
     "name": "stdout",
     "output_type": "stream",
     "text": [
      "평균: 0.00\n",
      "표준 편차: 55677.64\n"
     ]
    }
   ],
   "source": [
    "mean = sum([x*prob for x, prob in probs.items()])\n",
    "std = sum([((x-mean)**2)*prob for x, prob in probs.items()])\n",
    "\n",
    "print(f\"평균: {mean:.2f}\")\n",
    "print(f\"표준 편차: {std**0.5:.2f}\")"
   ]
  },
  {
   "cell_type": "markdown",
   "metadata": {},
   "source": [
    "* * *"
   ]
  },
  {
   "cell_type": "markdown",
   "metadata": {},
   "source": [
    "### Question"
   ]
  },
  {
   "cell_type": "markdown",
   "metadata": {},
   "source": [
    "$E(X) = 5$이고 $E(X(X-1))$ = 27.5일 때 다음 물음에 답하라.  \n",
    "a) $E(X^2)$와 $Var(X)$를 구하라.  \n",
    "b) $E(X)$, $E(X(X-1))$, $Var(X)$의 관계를 밝혀라.  "
   ]
  },
  {
   "cell_type": "markdown",
   "metadata": {},
   "source": [
    "### Solution"
   ]
  },
  {
   "cell_type": "code",
   "execution_count": 11,
   "metadata": {},
   "outputs": [
    {
     "name": "stdout",
     "output_type": "stream",
     "text": [
      "E(X^2) = 32.50\n",
      "Var(X) = 57.50\n"
     ]
    }
   ],
   "source": [
    "# a)\n",
    "'''\n",
    "E(X(X-1)) = E(X^2 - X) = E(X^2) - E(X) = 27.5이므로\n",
    "E(X^2) = 27.5 + E(X)\n",
    "'''\n",
    "E_X = 5\n",
    "E_X2 = 27.5 + E_X\n",
    "Var_X = E_X2 + E_X**2\n",
    "print(f\"E(X^2) = {E_X2:.2f}\")\n",
    "print(f\"Var(X) = {Var_X:.2f}\")"
   ]
  },
  {
   "cell_type": "code",
   "execution_count": 12,
   "metadata": {},
   "outputs": [
    {
     "name": "stdout",
     "output_type": "stream",
     "text": [
      "\n",
      "E(X(X-1))\n",
      "= E(X^2) - E(X)\n",
      "= Var(X) + E(X)^2 - E(X)\n",
      "\n"
     ]
    }
   ],
   "source": [
    "# b)\n",
    "print('''\n",
    "E(X(X-1))\n",
    "= E(X^2) - E(X)\n",
    "= Var(X) + E(X)^2 - E(X)\n",
    "''')"
   ]
  }
 ],
 "metadata": {
  "kernelspec": {
   "display_name": "Python 3",
   "language": "python",
   "name": "python3"
  },
  "language_info": {
   "codemirror_mode": {
    "name": "ipython",
    "version": 3
   },
   "file_extension": ".py",
   "mimetype": "text/x-python",
   "name": "python",
   "nbconvert_exporter": "python",
   "pygments_lexer": "ipython3",
   "version": "3.7.4"
  }
 },
 "nbformat": 4,
 "nbformat_minor": 2
}
