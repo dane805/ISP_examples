{
 "cells": [
  {
   "cell_type": "markdown",
   "metadata": {},
   "source": [
    "### Question"
   ]
  },
  {
   "cell_type": "markdown",
   "metadata": {},
   "source": [
    "X의 확률 분포가 다음과 같을 때, 중앙값과 평균, 최빈값을 찾아라  \n",
    "$P(X) = (\\frac 1 2)^x, ~~ for~~ x = 1,2,3... zero~~elsewhere$ "
   ]
  },
  {
   "cell_type": "code",
   "execution_count": 1,
   "metadata": {},
   "outputs": [],
   "source": [
    "def p(x):\n",
    "    # 자연수인 경우에만 확률 값을 반환\n",
    "    if x > 0 and x % 1 == 0:\n",
    "        return (0.5)**x\n",
    "    else:\n",
    "        return 0"
   ]
  },
  {
   "cell_type": "code",
   "execution_count": 2,
   "metadata": {},
   "outputs": [],
   "source": [
    "# mean\n",
    "x_range = range(100000)\n",
    "mean_x = sum(x*p(x) for x in x_range)\n",
    "print(f\"평균: {mean_x:.4f}\")"
   ]
  },
  {
   "cell_type": "code",
   "execution_count": 3,
   "metadata": {},
   "outputs": [
    {
     "name": "stdout",
     "output_type": "stream",
     "text": [
      "최빈값: 1\n"
     ]
    }
   ],
   "source": [
    "# mode\n",
    "prob_dic = {x:p(x) for x in x_range}\n",
    "max_x = max(prob_dic, key=prob_dic.get)\n",
    "print(f\"최빈값: {max_x}\")"
   ]
  },
  {
   "cell_type": "code",
   "execution_count": 4,
   "metadata": {},
   "outputs": [
    {
     "name": "stdout",
     "output_type": "stream",
     "text": [
      "중앙값: 1\n"
     ]
    }
   ],
   "source": [
    "# median, withour interpolation\n",
    "prop_sum = {-1:0}\n",
    "for x in x_range:\n",
    "    prop_sum[x] = prop_sum[x-1] + p(x)\n",
    "    if prop_sum[x] >= 0.5: break\n",
    "print(f\"중앙값: {x}\")"
   ]
  }
 ],
 "metadata": {
  "kernelspec": {
   "display_name": "Python 3",
   "language": "python",
   "name": "python3"
  },
  "language_info": {
   "codemirror_mode": {
    "name": "ipython",
    "version": 3
   },
   "file_extension": ".py",
   "mimetype": "text/x-python",
   "name": "python",
   "nbconvert_exporter": "python",
   "pygments_lexer": "ipython3",
   "version": "3.7.4"
  }
 },
 "nbformat": 4,
 "nbformat_minor": 2
}
