{
 "cells": [
  {
   "cell_type": "markdown",
   "metadata": {},
   "source": [
    "### Question"
   ]
  },
  {
   "cell_type": "markdown",
   "metadata": {},
   "source": [
    "모집단의 확률 분포가 다음과 같다고 할 때 표본크기 n=2인 확률표본을 무작취 복원추출하였다.  \n",
    "다음 물음에 답하라  \n",
    "<img src=\"https://latex.codecogs.com/gif.latex?P%28X%29%20%3D%20%5Cleft%5C%7B%5Cbegin%7Bmatrix%7D%200.2%20%7E%7E%20if%20%7E%7E%20x%20%3D%2040%20%5C%5C%200.3%20%7E%7E%20if%20%7E%7E%20x%20%3D%2045%20%5C%5C%200.5%20%7E%7E%20if%20%7E%7E%20x%20%3D%2050%20%5C%5C%200%20%7E%7E%20otherwise%20%5Cend%7Bmatrix%7D%5Cright.\">\n",
    "a) 모평균 $\\mu$와 모분산 $\\sigma^2$을 구하라  \n",
    "b) $\\bar X$의 평균과 분산을 구하고 $\\bar X$의 평균을 구하라"
   ]
  },
  {
   "cell_type": "code",
   "execution_count": 4,
   "metadata": {},
   "outputs": [
    {
     "name": "stdout",
     "output_type": "stream",
     "text": [
      "모평균: 46.50\n",
      "모분산: 15.25\n"
     ]
    }
   ],
   "source": [
    "# a)\n",
    "prob_dic = {40:0.2, 45:0.3, 50:0.5}\n",
    "X_mean = sum([x*prob for x, prob in prob_dic.items()])\n",
    "X_var = sum([((x-X_mean)**2)*prob for x, prob in prob_dic.items()])\n",
    "print(f\"모평균: {X_mean:.2f}\")\n",
    "print(f\"모분산: {X_var:.2f}\")"
   ]
  },
  {
   "cell_type": "code",
   "execution_count": null,
   "metadata": {},
   "outputs": [],
   "source": [
    "# b)\n",
    "n = 2\n",
    "sample_mean = X_mean\n",
    "sample_var = X_var / n**0\n"
   ]
  }
 ],
 "metadata": {
  "kernelspec": {
   "display_name": "Python 3",
   "language": "python",
   "name": "python3"
  },
  "language_info": {
   "codemirror_mode": {
    "name": "ipython",
    "version": 3
   },
   "file_extension": ".py",
   "mimetype": "text/x-python",
   "name": "python",
   "nbconvert_exporter": "python",
   "pygments_lexer": "ipython3",
   "version": "3.7.4"
  }
 },
 "nbformat": 4,
 "nbformat_minor": 2
}
