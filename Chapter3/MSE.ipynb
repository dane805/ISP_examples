{
 "cells": [
  {
   "cell_type": "code",
   "execution_count": 1,
   "metadata": {},
   "outputs": [],
   "source": [
    "import numpy as np\n",
    "import matplotlib.pyplot as plt"
   ]
  },
  {
   "cell_type": "markdown",
   "metadata": {},
   "source": [
    "### Question"
   ]
  },
  {
   "cell_type": "markdown",
   "metadata": {},
   "source": [
    "n번의 시행에서 X번의 성공이 나타날 때 표본 비율은 $\\hat p = \\frac X n$가 된다. 모비율 p에 대 한 추정량으로 다음과 같은 p*라는 추정량을 사용한다고 했을 때 다음 질문에 답하시오.  \n",
    "\n",
    "$p* = \\frac {X+1} {n+1} = \\frac n {n+1} \\hat p + \\frac 1 {n+1}$\n",
    "\n",
    "a) p\\*의 평균과 분산을 구하고 $\\hat p$와 비교하라.  \n",
    "b) p\\*의 MSE를 구하고 $\\hat p$와 비교하라."
   ]
  },
  {
   "cell_type": "markdown",
   "metadata": {},
   "source": [
    "### Solution"
   ]
  },
  {
   "cell_type": "code",
   "execution_count": 2,
   "metadata": {},
   "outputs": [],
   "source": [
    "n = 100\n",
    "p = 0.7\n",
    "sample_size = 100000"
   ]
  },
  {
   "cell_type": "code",
   "execution_count": 3,
   "metadata": {},
   "outputs": [
    {
     "name": "stdout",
     "output_type": "stream",
     "text": [
      "Mean of p*: 0.7029\n",
      "Variance of p*: 0.0020\n",
      "Mean of p^: 0.6999\n",
      "Variance of p^: 0.0021\n"
     ]
    }
   ],
   "source": [
    "# a)\n",
    "samples = np.random.binomial(n, p, sample_size)\n",
    "\n",
    "p_star = (samples + 1) / (n+1)\n",
    "p_hat = samples / n\n",
    "\n",
    "star_mean = np.mean(p_star)\n",
    "star_var = np.var(p_star)\n",
    "\n",
    "hat_mean = np.mean(p_hat)\n",
    "hat_var = np.var(p_hat)\n",
    "\n",
    "print(f\"Mean of p*: {star_mean:.4f}\")\n",
    "print(f\"Variance of p*: {star_var:.4f}\")\n",
    "\n",
    "print(f\"Mean of p^: {hat_mean:.4f}\")\n",
    "print(f\"Variance of p^: {hat_var:.4f}\")"
   ]
  },
  {
   "cell_type": "code",
   "execution_count": 4,
   "metadata": {},
   "outputs": [
    {
     "name": "stdout",
     "output_type": "stream",
     "text": [
      "MSE of p*: -0.0009\n",
      "MSE of p^: 0.0021\n"
     ]
    }
   ],
   "source": [
    "# b)\n",
    "star_bias = p - star_mean\n",
    "star_mse = star_bias + star_var\n",
    "\n",
    "hat_bias = p - hat_mean\n",
    "hat_mse = hat_bias + hat_var\n",
    "\n",
    "print(f\"MSE of p*: {star_mse:.4f}\")\n",
    "print(f\"MSE of p^: {hat_mse:.4f}\")"
   ]
  }
 ],
 "metadata": {
  "kernelspec": {
   "display_name": "Python 3",
   "language": "python",
   "name": "python3"
  },
  "language_info": {
   "codemirror_mode": {
    "name": "ipython",
    "version": 3
   },
   "file_extension": ".py",
   "mimetype": "text/x-python",
   "name": "python",
   "nbconvert_exporter": "python",
   "pygments_lexer": "ipython3",
   "version": "3.7.4"
  }
 },
 "nbformat": 4,
 "nbformat_minor": 2
}
